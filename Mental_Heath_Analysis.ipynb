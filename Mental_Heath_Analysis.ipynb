{
  "nbformat": 4,
  "nbformat_minor": 0,
  "metadata": {
    "colab": {
      "provenance": [],
      "authorship_tag": "ABX9TyP8Wu2e8Fi1p82iIT81G5wf",
      "include_colab_link": true
    },
    "kernelspec": {
      "name": "python3",
      "display_name": "Python 3"
    },
    "language_info": {
      "name": "python"
    }
  },
  "cells": [
    {
      "cell_type": "markdown",
      "metadata": {
        "id": "view-in-github",
        "colab_type": "text"
      },
      "source": [
        "<a href=\"https://colab.research.google.com/github/peteray-dev/Mental_Health_Modelling_Analysis/blob/master/Mental_Heath_Analysis.ipynb\" target=\"_parent\"><img src=\"https://colab.research.google.com/assets/colab-badge.svg\" alt=\"Open In Colab\"/></a>"
      ]
    },
    {
      "cell_type": "code",
      "execution_count": 1,
      "metadata": {
        "id": "dyikNJw9meAn"
      },
      "outputs": [],
      "source": [
        "\n",
        "from google.colab import userdata\n",
        "import os\n",
        "\n",
        "os.environ[\"KAGGLE_KEY\"] = userdata.get('KAGGLE_KEY')\n",
        "os.environ[\"KAGGLE_USERNAME\"] = userdata.get('KAGGLE_USERNAME')"
      ]
    },
    {
      "cell_type": "code",
      "source": [
        "!kaggle datasets download sumansharmadataworld/depression-surveydataset-for-analysis\n"
      ],
      "metadata": {
        "colab": {
          "base_uri": "https://localhost:8080/"
        },
        "id": "erdpXrfXnGxc",
        "outputId": "89b4696f-8081-4829-f54d-f1b692659499"
      },
      "execution_count": 2,
      "outputs": [
        {
          "output_type": "stream",
          "name": "stdout",
          "text": [
            "Dataset URL: https://www.kaggle.com/datasets/sumansharmadataworld/depression-surveydataset-for-analysis\n",
            "License(s): CC0-1.0\n",
            "Downloading depression-surveydataset-for-analysis.zip to /content\n",
            "  0% 0.00/42.6k [00:00<?, ?B/s]\n",
            "100% 42.6k/42.6k [00:00<00:00, 3.61MB/s]\n"
          ]
        }
      ]
    },
    {
      "cell_type": "code",
      "source": [
        "!kaggle competitions download playground-series-s4e11"
      ],
      "metadata": {
        "colab": {
          "base_uri": "https://localhost:8080/"
        },
        "id": "k40GwKnZqVj0",
        "outputId": "7c1b7c24-c833-4ed8-ccea-185b05755414"
      },
      "execution_count": 3,
      "outputs": [
        {
          "output_type": "stream",
          "name": "stdout",
          "text": [
            "Downloading playground-series-s4e11.zip to /content\n",
            " 66% 3.00M/4.55M [00:00<00:00, 5.43MB/s]\n",
            "100% 4.55M/4.55M [00:00<00:00, 6.56MB/s]\n"
          ]
        }
      ]
    },
    {
      "cell_type": "code",
      "source": [
        "! mkdir Original_depression_survey\n",
        "! unzip /content/depression-surveydataset-for-analysis.zip -d Original_depression_survey"
      ],
      "metadata": {
        "colab": {
          "base_uri": "https://localhost:8080/"
        },
        "id": "SxWPFScurWj1",
        "outputId": "6babe2f7-9ad8-48a3-9dea-11f0bcec0d6f"
      },
      "execution_count": 4,
      "outputs": [
        {
          "output_type": "stream",
          "name": "stdout",
          "text": [
            "Archive:  /content/depression-surveydataset-for-analysis.zip\n",
            "  inflating: Original_depression_survey/final_depression_dataset_1.csv  \n"
          ]
        }
      ]
    },
    {
      "cell_type": "code",
      "source": [
        "! mkdir train_test_generated\n",
        "\n",
        "! unzip /content/playground-series-s4e11.zip -d train_test_generated\n"
      ],
      "metadata": {
        "colab": {
          "base_uri": "https://localhost:8080/"
        },
        "id": "8MKmWZ3wnXxA",
        "outputId": "b532aa98-d2a0-4a6e-8bb6-3b232281e71b"
      },
      "execution_count": 5,
      "outputs": [
        {
          "output_type": "stream",
          "name": "stdout",
          "text": [
            "Archive:  /content/playground-series-s4e11.zip\n",
            "  inflating: train_test_generated/sample_submission.csv  \n",
            "  inflating: train_test_generated/test.csv  \n",
            "  inflating: train_test_generated/train.csv  \n"
          ]
        }
      ]
    },
    {
      "cell_type": "code",
      "source": [
        "import numpy as np\n",
        "import pandas as pd\n",
        "import matplotlib.pyplot as plt\n",
        "import seaborn as sns\n",
        "from sklearn.impute import SimpleImputer\n",
        "from sklearn.pipeline import Pipeline\n",
        "from sklearn.compose import ColumnTransformer\n",
        "from sklearn.preprocessing import OneHotEncoder, StandardScaler\n",
        "from sklearn.model_selection import train_test_split\n",
        "from xgboost import XGBClassifier\n",
        "from sklearn.metrics import accuracy_score, confusion_matrix, classification_report\n",
        "from sklearn.metrics import precision_score, recall_score, f1_score, roc_auc_score, roc_curve\n",
        "from sklearn.model_selection import StratifiedKFold\n",
        "from sklearn.model_selection import GridSearchCV, RandomizedSearchCV"
      ],
      "metadata": {
        "id": "cU3-GVjnLrrR"
      },
      "execution_count": 6,
      "outputs": []
    },
    {
      "cell_type": "code",
      "source": [
        "df_train = pd.read_csv('/content/train_test_generated/train.csv', index_col='id')\n",
        "df_test = pd.read_csv('/content/train_test_generated/test.csv', index_col='id')\n",
        "df_train.head()"
      ],
      "metadata": {
        "colab": {
          "base_uri": "https://localhost:8080/",
          "height": 414
        },
        "id": "ZW7GEbtsnwN_",
        "outputId": "123aa364-b225-41db-98d8-fc57395e293a"
      },
      "execution_count": 7,
      "outputs": [
        {
          "output_type": "execute_result",
          "data": {
            "text/plain": [
              "        Name  Gender   Age           City Working Professional or Student  \\\n",
              "id                                                                          \n",
              "0   Aaradhya  Female  49.0       Ludhiana            Working Professional   \n",
              "1      Vivan    Male  26.0       Varanasi            Working Professional   \n",
              "2     Yuvraj    Male  33.0  Visakhapatnam                         Student   \n",
              "3     Yuvraj    Male  22.0         Mumbai            Working Professional   \n",
              "4       Rhea  Female  30.0         Kanpur            Working Professional   \n",
              "\n",
              "          Profession  Academic Pressure  Work Pressure  CGPA  \\\n",
              "id                                                             \n",
              "0               Chef                NaN            5.0   NaN   \n",
              "1            Teacher                NaN            4.0   NaN   \n",
              "2                NaN                5.0            NaN  8.97   \n",
              "3            Teacher                NaN            5.0   NaN   \n",
              "4   Business Analyst                NaN            1.0   NaN   \n",
              "\n",
              "    Study Satisfaction  Job Satisfaction     Sleep Duration Dietary Habits  \\\n",
              "id                                                                           \n",
              "0                  NaN               2.0  More than 8 hours        Healthy   \n",
              "1                  NaN               3.0  Less than 5 hours      Unhealthy   \n",
              "2                  2.0               NaN          5-6 hours        Healthy   \n",
              "3                  NaN               1.0  Less than 5 hours       Moderate   \n",
              "4                  NaN               1.0          5-6 hours      Unhealthy   \n",
              "\n",
              "     Degree Have you ever had suicidal thoughts ?  Work/Study Hours  \\\n",
              "id                                                                    \n",
              "0       BHM                                    No               1.0   \n",
              "1       LLB                                   Yes               7.0   \n",
              "2   B.Pharm                                   Yes               3.0   \n",
              "3       BBA                                   Yes              10.0   \n",
              "4       BBA                                   Yes               9.0   \n",
              "\n",
              "    Financial Stress Family History of Mental Illness  Depression  \n",
              "id                                                                 \n",
              "0                2.0                               No           0  \n",
              "1                3.0                               No           1  \n",
              "2                1.0                               No           1  \n",
              "3                1.0                              Yes           1  \n",
              "4                4.0                              Yes           0  "
            ],
            "text/html": [
              "\n",
              "  <div id=\"df-473859a1-24d8-43a1-bc7c-34b2789ecc99\" class=\"colab-df-container\">\n",
              "    <div>\n",
              "<style scoped>\n",
              "    .dataframe tbody tr th:only-of-type {\n",
              "        vertical-align: middle;\n",
              "    }\n",
              "\n",
              "    .dataframe tbody tr th {\n",
              "        vertical-align: top;\n",
              "    }\n",
              "\n",
              "    .dataframe thead th {\n",
              "        text-align: right;\n",
              "    }\n",
              "</style>\n",
              "<table border=\"1\" class=\"dataframe\">\n",
              "  <thead>\n",
              "    <tr style=\"text-align: right;\">\n",
              "      <th></th>\n",
              "      <th>Name</th>\n",
              "      <th>Gender</th>\n",
              "      <th>Age</th>\n",
              "      <th>City</th>\n",
              "      <th>Working Professional or Student</th>\n",
              "      <th>Profession</th>\n",
              "      <th>Academic Pressure</th>\n",
              "      <th>Work Pressure</th>\n",
              "      <th>CGPA</th>\n",
              "      <th>Study Satisfaction</th>\n",
              "      <th>Job Satisfaction</th>\n",
              "      <th>Sleep Duration</th>\n",
              "      <th>Dietary Habits</th>\n",
              "      <th>Degree</th>\n",
              "      <th>Have you ever had suicidal thoughts ?</th>\n",
              "      <th>Work/Study Hours</th>\n",
              "      <th>Financial Stress</th>\n",
              "      <th>Family History of Mental Illness</th>\n",
              "      <th>Depression</th>\n",
              "    </tr>\n",
              "    <tr>\n",
              "      <th>id</th>\n",
              "      <th></th>\n",
              "      <th></th>\n",
              "      <th></th>\n",
              "      <th></th>\n",
              "      <th></th>\n",
              "      <th></th>\n",
              "      <th></th>\n",
              "      <th></th>\n",
              "      <th></th>\n",
              "      <th></th>\n",
              "      <th></th>\n",
              "      <th></th>\n",
              "      <th></th>\n",
              "      <th></th>\n",
              "      <th></th>\n",
              "      <th></th>\n",
              "      <th></th>\n",
              "      <th></th>\n",
              "      <th></th>\n",
              "    </tr>\n",
              "  </thead>\n",
              "  <tbody>\n",
              "    <tr>\n",
              "      <th>0</th>\n",
              "      <td>Aaradhya</td>\n",
              "      <td>Female</td>\n",
              "      <td>49.0</td>\n",
              "      <td>Ludhiana</td>\n",
              "      <td>Working Professional</td>\n",
              "      <td>Chef</td>\n",
              "      <td>NaN</td>\n",
              "      <td>5.0</td>\n",
              "      <td>NaN</td>\n",
              "      <td>NaN</td>\n",
              "      <td>2.0</td>\n",
              "      <td>More than 8 hours</td>\n",
              "      <td>Healthy</td>\n",
              "      <td>BHM</td>\n",
              "      <td>No</td>\n",
              "      <td>1.0</td>\n",
              "      <td>2.0</td>\n",
              "      <td>No</td>\n",
              "      <td>0</td>\n",
              "    </tr>\n",
              "    <tr>\n",
              "      <th>1</th>\n",
              "      <td>Vivan</td>\n",
              "      <td>Male</td>\n",
              "      <td>26.0</td>\n",
              "      <td>Varanasi</td>\n",
              "      <td>Working Professional</td>\n",
              "      <td>Teacher</td>\n",
              "      <td>NaN</td>\n",
              "      <td>4.0</td>\n",
              "      <td>NaN</td>\n",
              "      <td>NaN</td>\n",
              "      <td>3.0</td>\n",
              "      <td>Less than 5 hours</td>\n",
              "      <td>Unhealthy</td>\n",
              "      <td>LLB</td>\n",
              "      <td>Yes</td>\n",
              "      <td>7.0</td>\n",
              "      <td>3.0</td>\n",
              "      <td>No</td>\n",
              "      <td>1</td>\n",
              "    </tr>\n",
              "    <tr>\n",
              "      <th>2</th>\n",
              "      <td>Yuvraj</td>\n",
              "      <td>Male</td>\n",
              "      <td>33.0</td>\n",
              "      <td>Visakhapatnam</td>\n",
              "      <td>Student</td>\n",
              "      <td>NaN</td>\n",
              "      <td>5.0</td>\n",
              "      <td>NaN</td>\n",
              "      <td>8.97</td>\n",
              "      <td>2.0</td>\n",
              "      <td>NaN</td>\n",
              "      <td>5-6 hours</td>\n",
              "      <td>Healthy</td>\n",
              "      <td>B.Pharm</td>\n",
              "      <td>Yes</td>\n",
              "      <td>3.0</td>\n",
              "      <td>1.0</td>\n",
              "      <td>No</td>\n",
              "      <td>1</td>\n",
              "    </tr>\n",
              "    <tr>\n",
              "      <th>3</th>\n",
              "      <td>Yuvraj</td>\n",
              "      <td>Male</td>\n",
              "      <td>22.0</td>\n",
              "      <td>Mumbai</td>\n",
              "      <td>Working Professional</td>\n",
              "      <td>Teacher</td>\n",
              "      <td>NaN</td>\n",
              "      <td>5.0</td>\n",
              "      <td>NaN</td>\n",
              "      <td>NaN</td>\n",
              "      <td>1.0</td>\n",
              "      <td>Less than 5 hours</td>\n",
              "      <td>Moderate</td>\n",
              "      <td>BBA</td>\n",
              "      <td>Yes</td>\n",
              "      <td>10.0</td>\n",
              "      <td>1.0</td>\n",
              "      <td>Yes</td>\n",
              "      <td>1</td>\n",
              "    </tr>\n",
              "    <tr>\n",
              "      <th>4</th>\n",
              "      <td>Rhea</td>\n",
              "      <td>Female</td>\n",
              "      <td>30.0</td>\n",
              "      <td>Kanpur</td>\n",
              "      <td>Working Professional</td>\n",
              "      <td>Business Analyst</td>\n",
              "      <td>NaN</td>\n",
              "      <td>1.0</td>\n",
              "      <td>NaN</td>\n",
              "      <td>NaN</td>\n",
              "      <td>1.0</td>\n",
              "      <td>5-6 hours</td>\n",
              "      <td>Unhealthy</td>\n",
              "      <td>BBA</td>\n",
              "      <td>Yes</td>\n",
              "      <td>9.0</td>\n",
              "      <td>4.0</td>\n",
              "      <td>Yes</td>\n",
              "      <td>0</td>\n",
              "    </tr>\n",
              "  </tbody>\n",
              "</table>\n",
              "</div>\n",
              "    <div class=\"colab-df-buttons\">\n",
              "\n",
              "  <div class=\"colab-df-container\">\n",
              "    <button class=\"colab-df-convert\" onclick=\"convertToInteractive('df-473859a1-24d8-43a1-bc7c-34b2789ecc99')\"\n",
              "            title=\"Convert this dataframe to an interactive table.\"\n",
              "            style=\"display:none;\">\n",
              "\n",
              "  <svg xmlns=\"http://www.w3.org/2000/svg\" height=\"24px\" viewBox=\"0 -960 960 960\">\n",
              "    <path d=\"M120-120v-720h720v720H120Zm60-500h600v-160H180v160Zm220 220h160v-160H400v160Zm0 220h160v-160H400v160ZM180-400h160v-160H180v160Zm440 0h160v-160H620v160ZM180-180h160v-160H180v160Zm440 0h160v-160H620v160Z\"/>\n",
              "  </svg>\n",
              "    </button>\n",
              "\n",
              "  <style>\n",
              "    .colab-df-container {\n",
              "      display:flex;\n",
              "      gap: 12px;\n",
              "    }\n",
              "\n",
              "    .colab-df-convert {\n",
              "      background-color: #E8F0FE;\n",
              "      border: none;\n",
              "      border-radius: 50%;\n",
              "      cursor: pointer;\n",
              "      display: none;\n",
              "      fill: #1967D2;\n",
              "      height: 32px;\n",
              "      padding: 0 0 0 0;\n",
              "      width: 32px;\n",
              "    }\n",
              "\n",
              "    .colab-df-convert:hover {\n",
              "      background-color: #E2EBFA;\n",
              "      box-shadow: 0px 1px 2px rgba(60, 64, 67, 0.3), 0px 1px 3px 1px rgba(60, 64, 67, 0.15);\n",
              "      fill: #174EA6;\n",
              "    }\n",
              "\n",
              "    .colab-df-buttons div {\n",
              "      margin-bottom: 4px;\n",
              "    }\n",
              "\n",
              "    [theme=dark] .colab-df-convert {\n",
              "      background-color: #3B4455;\n",
              "      fill: #D2E3FC;\n",
              "    }\n",
              "\n",
              "    [theme=dark] .colab-df-convert:hover {\n",
              "      background-color: #434B5C;\n",
              "      box-shadow: 0px 1px 3px 1px rgba(0, 0, 0, 0.15);\n",
              "      filter: drop-shadow(0px 1px 2px rgba(0, 0, 0, 0.3));\n",
              "      fill: #FFFFFF;\n",
              "    }\n",
              "  </style>\n",
              "\n",
              "    <script>\n",
              "      const buttonEl =\n",
              "        document.querySelector('#df-473859a1-24d8-43a1-bc7c-34b2789ecc99 button.colab-df-convert');\n",
              "      buttonEl.style.display =\n",
              "        google.colab.kernel.accessAllowed ? 'block' : 'none';\n",
              "\n",
              "      async function convertToInteractive(key) {\n",
              "        const element = document.querySelector('#df-473859a1-24d8-43a1-bc7c-34b2789ecc99');\n",
              "        const dataTable =\n",
              "          await google.colab.kernel.invokeFunction('convertToInteractive',\n",
              "                                                    [key], {});\n",
              "        if (!dataTable) return;\n",
              "\n",
              "        const docLinkHtml = 'Like what you see? Visit the ' +\n",
              "          '<a target=\"_blank\" href=https://colab.research.google.com/notebooks/data_table.ipynb>data table notebook</a>'\n",
              "          + ' to learn more about interactive tables.';\n",
              "        element.innerHTML = '';\n",
              "        dataTable['output_type'] = 'display_data';\n",
              "        await google.colab.output.renderOutput(dataTable, element);\n",
              "        const docLink = document.createElement('div');\n",
              "        docLink.innerHTML = docLinkHtml;\n",
              "        element.appendChild(docLink);\n",
              "      }\n",
              "    </script>\n",
              "  </div>\n",
              "\n",
              "\n",
              "<div id=\"df-fa055eb4-853a-4ffb-bc53-7f701fedf1d5\">\n",
              "  <button class=\"colab-df-quickchart\" onclick=\"quickchart('df-fa055eb4-853a-4ffb-bc53-7f701fedf1d5')\"\n",
              "            title=\"Suggest charts\"\n",
              "            style=\"display:none;\">\n",
              "\n",
              "<svg xmlns=\"http://www.w3.org/2000/svg\" height=\"24px\"viewBox=\"0 0 24 24\"\n",
              "     width=\"24px\">\n",
              "    <g>\n",
              "        <path d=\"M19 3H5c-1.1 0-2 .9-2 2v14c0 1.1.9 2 2 2h14c1.1 0 2-.9 2-2V5c0-1.1-.9-2-2-2zM9 17H7v-7h2v7zm4 0h-2V7h2v10zm4 0h-2v-4h2v4z\"/>\n",
              "    </g>\n",
              "</svg>\n",
              "  </button>\n",
              "\n",
              "<style>\n",
              "  .colab-df-quickchart {\n",
              "      --bg-color: #E8F0FE;\n",
              "      --fill-color: #1967D2;\n",
              "      --hover-bg-color: #E2EBFA;\n",
              "      --hover-fill-color: #174EA6;\n",
              "      --disabled-fill-color: #AAA;\n",
              "      --disabled-bg-color: #DDD;\n",
              "  }\n",
              "\n",
              "  [theme=dark] .colab-df-quickchart {\n",
              "      --bg-color: #3B4455;\n",
              "      --fill-color: #D2E3FC;\n",
              "      --hover-bg-color: #434B5C;\n",
              "      --hover-fill-color: #FFFFFF;\n",
              "      --disabled-bg-color: #3B4455;\n",
              "      --disabled-fill-color: #666;\n",
              "  }\n",
              "\n",
              "  .colab-df-quickchart {\n",
              "    background-color: var(--bg-color);\n",
              "    border: none;\n",
              "    border-radius: 50%;\n",
              "    cursor: pointer;\n",
              "    display: none;\n",
              "    fill: var(--fill-color);\n",
              "    height: 32px;\n",
              "    padding: 0;\n",
              "    width: 32px;\n",
              "  }\n",
              "\n",
              "  .colab-df-quickchart:hover {\n",
              "    background-color: var(--hover-bg-color);\n",
              "    box-shadow: 0 1px 2px rgba(60, 64, 67, 0.3), 0 1px 3px 1px rgba(60, 64, 67, 0.15);\n",
              "    fill: var(--button-hover-fill-color);\n",
              "  }\n",
              "\n",
              "  .colab-df-quickchart-complete:disabled,\n",
              "  .colab-df-quickchart-complete:disabled:hover {\n",
              "    background-color: var(--disabled-bg-color);\n",
              "    fill: var(--disabled-fill-color);\n",
              "    box-shadow: none;\n",
              "  }\n",
              "\n",
              "  .colab-df-spinner {\n",
              "    border: 2px solid var(--fill-color);\n",
              "    border-color: transparent;\n",
              "    border-bottom-color: var(--fill-color);\n",
              "    animation:\n",
              "      spin 1s steps(1) infinite;\n",
              "  }\n",
              "\n",
              "  @keyframes spin {\n",
              "    0% {\n",
              "      border-color: transparent;\n",
              "      border-bottom-color: var(--fill-color);\n",
              "      border-left-color: var(--fill-color);\n",
              "    }\n",
              "    20% {\n",
              "      border-color: transparent;\n",
              "      border-left-color: var(--fill-color);\n",
              "      border-top-color: var(--fill-color);\n",
              "    }\n",
              "    30% {\n",
              "      border-color: transparent;\n",
              "      border-left-color: var(--fill-color);\n",
              "      border-top-color: var(--fill-color);\n",
              "      border-right-color: var(--fill-color);\n",
              "    }\n",
              "    40% {\n",
              "      border-color: transparent;\n",
              "      border-right-color: var(--fill-color);\n",
              "      border-top-color: var(--fill-color);\n",
              "    }\n",
              "    60% {\n",
              "      border-color: transparent;\n",
              "      border-right-color: var(--fill-color);\n",
              "    }\n",
              "    80% {\n",
              "      border-color: transparent;\n",
              "      border-right-color: var(--fill-color);\n",
              "      border-bottom-color: var(--fill-color);\n",
              "    }\n",
              "    90% {\n",
              "      border-color: transparent;\n",
              "      border-bottom-color: var(--fill-color);\n",
              "    }\n",
              "  }\n",
              "</style>\n",
              "\n",
              "  <script>\n",
              "    async function quickchart(key) {\n",
              "      const quickchartButtonEl =\n",
              "        document.querySelector('#' + key + ' button');\n",
              "      quickchartButtonEl.disabled = true;  // To prevent multiple clicks.\n",
              "      quickchartButtonEl.classList.add('colab-df-spinner');\n",
              "      try {\n",
              "        const charts = await google.colab.kernel.invokeFunction(\n",
              "            'suggestCharts', [key], {});\n",
              "      } catch (error) {\n",
              "        console.error('Error during call to suggestCharts:', error);\n",
              "      }\n",
              "      quickchartButtonEl.classList.remove('colab-df-spinner');\n",
              "      quickchartButtonEl.classList.add('colab-df-quickchart-complete');\n",
              "    }\n",
              "    (() => {\n",
              "      let quickchartButtonEl =\n",
              "        document.querySelector('#df-fa055eb4-853a-4ffb-bc53-7f701fedf1d5 button');\n",
              "      quickchartButtonEl.style.display =\n",
              "        google.colab.kernel.accessAllowed ? 'block' : 'none';\n",
              "    })();\n",
              "  </script>\n",
              "</div>\n",
              "\n",
              "    </div>\n",
              "  </div>\n"
            ],
            "application/vnd.google.colaboratory.intrinsic+json": {
              "type": "dataframe",
              "variable_name": "df_train"
            }
          },
          "metadata": {},
          "execution_count": 7
        }
      ]
    },
    {
      "cell_type": "code",
      "source": [
        "df_orig = pd.read_csv('/content/Original_depression_survey/final_depression_dataset_1.csv')\n",
        "df_orig.head()"
      ],
      "metadata": {
        "colab": {
          "base_uri": "https://localhost:8080/",
          "height": 382
        },
        "id": "Gw7uL85Sn8uG",
        "outputId": "f4956739-f1ac-44d9-b5fa-fab86e544def"
      },
      "execution_count": 8,
      "outputs": [
        {
          "output_type": "execute_result",
          "data": {
            "text/plain": [
              "      Name  Gender  Age       City Working Professional or Student  \\\n",
              "0    Pooja  Female   37  Ghaziabad            Working Professional   \n",
              "1  Reyansh    Male   60     Kalyan            Working Professional   \n",
              "2    Manvi  Female   42     Bhopal            Working Professional   \n",
              "3     Isha  Female   44      Thane            Working Professional   \n",
              "4    Aarav    Male   48     Indore            Working Professional   \n",
              "\n",
              "          Profession  Academic Pressure  Work Pressure  CGPA  \\\n",
              "0            Teacher                NaN            2.0   NaN   \n",
              "1  Financial Analyst                NaN            4.0   NaN   \n",
              "2            Teacher                NaN            2.0   NaN   \n",
              "3            Teacher                NaN            3.0   NaN   \n",
              "4     UX/UI Designer                NaN            4.0   NaN   \n",
              "\n",
              "   Study Satisfaction  Job Satisfaction Sleep Duration Dietary Habits Degree  \\\n",
              "0                 NaN               4.0      7-8 hours       Moderate     MA   \n",
              "1                 NaN               3.0      5-6 hours      Unhealthy  B.Com   \n",
              "2                 NaN               3.0      5-6 hours       Moderate  M.Com   \n",
              "3                 NaN               5.0      7-8 hours        Healthy     MD   \n",
              "4                 NaN               3.0      7-8 hours       Moderate     BE   \n",
              "\n",
              "  Have you ever had suicidal thoughts ?  Work/Study Hours  Financial Stress  \\\n",
              "0                                    No                 6                 2   \n",
              "1                                   Yes                 0                 4   \n",
              "2                                    No                 0                 2   \n",
              "3                                   Yes                 1                 2   \n",
              "4                                   Yes                 6                 5   \n",
              "\n",
              "  Family History of Mental Illness Depression  \n",
              "0                               No         No  \n",
              "1                              Yes         No  \n",
              "2                               No         No  \n",
              "3                              Yes         No  \n",
              "4                              Yes         No  "
            ],
            "text/html": [
              "\n",
              "  <div id=\"df-0b6147a4-b57e-452d-9b7c-02bb293d3415\" class=\"colab-df-container\">\n",
              "    <div>\n",
              "<style scoped>\n",
              "    .dataframe tbody tr th:only-of-type {\n",
              "        vertical-align: middle;\n",
              "    }\n",
              "\n",
              "    .dataframe tbody tr th {\n",
              "        vertical-align: top;\n",
              "    }\n",
              "\n",
              "    .dataframe thead th {\n",
              "        text-align: right;\n",
              "    }\n",
              "</style>\n",
              "<table border=\"1\" class=\"dataframe\">\n",
              "  <thead>\n",
              "    <tr style=\"text-align: right;\">\n",
              "      <th></th>\n",
              "      <th>Name</th>\n",
              "      <th>Gender</th>\n",
              "      <th>Age</th>\n",
              "      <th>City</th>\n",
              "      <th>Working Professional or Student</th>\n",
              "      <th>Profession</th>\n",
              "      <th>Academic Pressure</th>\n",
              "      <th>Work Pressure</th>\n",
              "      <th>CGPA</th>\n",
              "      <th>Study Satisfaction</th>\n",
              "      <th>Job Satisfaction</th>\n",
              "      <th>Sleep Duration</th>\n",
              "      <th>Dietary Habits</th>\n",
              "      <th>Degree</th>\n",
              "      <th>Have you ever had suicidal thoughts ?</th>\n",
              "      <th>Work/Study Hours</th>\n",
              "      <th>Financial Stress</th>\n",
              "      <th>Family History of Mental Illness</th>\n",
              "      <th>Depression</th>\n",
              "    </tr>\n",
              "  </thead>\n",
              "  <tbody>\n",
              "    <tr>\n",
              "      <th>0</th>\n",
              "      <td>Pooja</td>\n",
              "      <td>Female</td>\n",
              "      <td>37</td>\n",
              "      <td>Ghaziabad</td>\n",
              "      <td>Working Professional</td>\n",
              "      <td>Teacher</td>\n",
              "      <td>NaN</td>\n",
              "      <td>2.0</td>\n",
              "      <td>NaN</td>\n",
              "      <td>NaN</td>\n",
              "      <td>4.0</td>\n",
              "      <td>7-8 hours</td>\n",
              "      <td>Moderate</td>\n",
              "      <td>MA</td>\n",
              "      <td>No</td>\n",
              "      <td>6</td>\n",
              "      <td>2</td>\n",
              "      <td>No</td>\n",
              "      <td>No</td>\n",
              "    </tr>\n",
              "    <tr>\n",
              "      <th>1</th>\n",
              "      <td>Reyansh</td>\n",
              "      <td>Male</td>\n",
              "      <td>60</td>\n",
              "      <td>Kalyan</td>\n",
              "      <td>Working Professional</td>\n",
              "      <td>Financial Analyst</td>\n",
              "      <td>NaN</td>\n",
              "      <td>4.0</td>\n",
              "      <td>NaN</td>\n",
              "      <td>NaN</td>\n",
              "      <td>3.0</td>\n",
              "      <td>5-6 hours</td>\n",
              "      <td>Unhealthy</td>\n",
              "      <td>B.Com</td>\n",
              "      <td>Yes</td>\n",
              "      <td>0</td>\n",
              "      <td>4</td>\n",
              "      <td>Yes</td>\n",
              "      <td>No</td>\n",
              "    </tr>\n",
              "    <tr>\n",
              "      <th>2</th>\n",
              "      <td>Manvi</td>\n",
              "      <td>Female</td>\n",
              "      <td>42</td>\n",
              "      <td>Bhopal</td>\n",
              "      <td>Working Professional</td>\n",
              "      <td>Teacher</td>\n",
              "      <td>NaN</td>\n",
              "      <td>2.0</td>\n",
              "      <td>NaN</td>\n",
              "      <td>NaN</td>\n",
              "      <td>3.0</td>\n",
              "      <td>5-6 hours</td>\n",
              "      <td>Moderate</td>\n",
              "      <td>M.Com</td>\n",
              "      <td>No</td>\n",
              "      <td>0</td>\n",
              "      <td>2</td>\n",
              "      <td>No</td>\n",
              "      <td>No</td>\n",
              "    </tr>\n",
              "    <tr>\n",
              "      <th>3</th>\n",
              "      <td>Isha</td>\n",
              "      <td>Female</td>\n",
              "      <td>44</td>\n",
              "      <td>Thane</td>\n",
              "      <td>Working Professional</td>\n",
              "      <td>Teacher</td>\n",
              "      <td>NaN</td>\n",
              "      <td>3.0</td>\n",
              "      <td>NaN</td>\n",
              "      <td>NaN</td>\n",
              "      <td>5.0</td>\n",
              "      <td>7-8 hours</td>\n",
              "      <td>Healthy</td>\n",
              "      <td>MD</td>\n",
              "      <td>Yes</td>\n",
              "      <td>1</td>\n",
              "      <td>2</td>\n",
              "      <td>Yes</td>\n",
              "      <td>No</td>\n",
              "    </tr>\n",
              "    <tr>\n",
              "      <th>4</th>\n",
              "      <td>Aarav</td>\n",
              "      <td>Male</td>\n",
              "      <td>48</td>\n",
              "      <td>Indore</td>\n",
              "      <td>Working Professional</td>\n",
              "      <td>UX/UI Designer</td>\n",
              "      <td>NaN</td>\n",
              "      <td>4.0</td>\n",
              "      <td>NaN</td>\n",
              "      <td>NaN</td>\n",
              "      <td>3.0</td>\n",
              "      <td>7-8 hours</td>\n",
              "      <td>Moderate</td>\n",
              "      <td>BE</td>\n",
              "      <td>Yes</td>\n",
              "      <td>6</td>\n",
              "      <td>5</td>\n",
              "      <td>Yes</td>\n",
              "      <td>No</td>\n",
              "    </tr>\n",
              "  </tbody>\n",
              "</table>\n",
              "</div>\n",
              "    <div class=\"colab-df-buttons\">\n",
              "\n",
              "  <div class=\"colab-df-container\">\n",
              "    <button class=\"colab-df-convert\" onclick=\"convertToInteractive('df-0b6147a4-b57e-452d-9b7c-02bb293d3415')\"\n",
              "            title=\"Convert this dataframe to an interactive table.\"\n",
              "            style=\"display:none;\">\n",
              "\n",
              "  <svg xmlns=\"http://www.w3.org/2000/svg\" height=\"24px\" viewBox=\"0 -960 960 960\">\n",
              "    <path d=\"M120-120v-720h720v720H120Zm60-500h600v-160H180v160Zm220 220h160v-160H400v160Zm0 220h160v-160H400v160ZM180-400h160v-160H180v160Zm440 0h160v-160H620v160ZM180-180h160v-160H180v160Zm440 0h160v-160H620v160Z\"/>\n",
              "  </svg>\n",
              "    </button>\n",
              "\n",
              "  <style>\n",
              "    .colab-df-container {\n",
              "      display:flex;\n",
              "      gap: 12px;\n",
              "    }\n",
              "\n",
              "    .colab-df-convert {\n",
              "      background-color: #E8F0FE;\n",
              "      border: none;\n",
              "      border-radius: 50%;\n",
              "      cursor: pointer;\n",
              "      display: none;\n",
              "      fill: #1967D2;\n",
              "      height: 32px;\n",
              "      padding: 0 0 0 0;\n",
              "      width: 32px;\n",
              "    }\n",
              "\n",
              "    .colab-df-convert:hover {\n",
              "      background-color: #E2EBFA;\n",
              "      box-shadow: 0px 1px 2px rgba(60, 64, 67, 0.3), 0px 1px 3px 1px rgba(60, 64, 67, 0.15);\n",
              "      fill: #174EA6;\n",
              "    }\n",
              "\n",
              "    .colab-df-buttons div {\n",
              "      margin-bottom: 4px;\n",
              "    }\n",
              "\n",
              "    [theme=dark] .colab-df-convert {\n",
              "      background-color: #3B4455;\n",
              "      fill: #D2E3FC;\n",
              "    }\n",
              "\n",
              "    [theme=dark] .colab-df-convert:hover {\n",
              "      background-color: #434B5C;\n",
              "      box-shadow: 0px 1px 3px 1px rgba(0, 0, 0, 0.15);\n",
              "      filter: drop-shadow(0px 1px 2px rgba(0, 0, 0, 0.3));\n",
              "      fill: #FFFFFF;\n",
              "    }\n",
              "  </style>\n",
              "\n",
              "    <script>\n",
              "      const buttonEl =\n",
              "        document.querySelector('#df-0b6147a4-b57e-452d-9b7c-02bb293d3415 button.colab-df-convert');\n",
              "      buttonEl.style.display =\n",
              "        google.colab.kernel.accessAllowed ? 'block' : 'none';\n",
              "\n",
              "      async function convertToInteractive(key) {\n",
              "        const element = document.querySelector('#df-0b6147a4-b57e-452d-9b7c-02bb293d3415');\n",
              "        const dataTable =\n",
              "          await google.colab.kernel.invokeFunction('convertToInteractive',\n",
              "                                                    [key], {});\n",
              "        if (!dataTable) return;\n",
              "\n",
              "        const docLinkHtml = 'Like what you see? Visit the ' +\n",
              "          '<a target=\"_blank\" href=https://colab.research.google.com/notebooks/data_table.ipynb>data table notebook</a>'\n",
              "          + ' to learn more about interactive tables.';\n",
              "        element.innerHTML = '';\n",
              "        dataTable['output_type'] = 'display_data';\n",
              "        await google.colab.output.renderOutput(dataTable, element);\n",
              "        const docLink = document.createElement('div');\n",
              "        docLink.innerHTML = docLinkHtml;\n",
              "        element.appendChild(docLink);\n",
              "      }\n",
              "    </script>\n",
              "  </div>\n",
              "\n",
              "\n",
              "<div id=\"df-35176bb8-aa02-43ab-b611-93636278a31e\">\n",
              "  <button class=\"colab-df-quickchart\" onclick=\"quickchart('df-35176bb8-aa02-43ab-b611-93636278a31e')\"\n",
              "            title=\"Suggest charts\"\n",
              "            style=\"display:none;\">\n",
              "\n",
              "<svg xmlns=\"http://www.w3.org/2000/svg\" height=\"24px\"viewBox=\"0 0 24 24\"\n",
              "     width=\"24px\">\n",
              "    <g>\n",
              "        <path d=\"M19 3H5c-1.1 0-2 .9-2 2v14c0 1.1.9 2 2 2h14c1.1 0 2-.9 2-2V5c0-1.1-.9-2-2-2zM9 17H7v-7h2v7zm4 0h-2V7h2v10zm4 0h-2v-4h2v4z\"/>\n",
              "    </g>\n",
              "</svg>\n",
              "  </button>\n",
              "\n",
              "<style>\n",
              "  .colab-df-quickchart {\n",
              "      --bg-color: #E8F0FE;\n",
              "      --fill-color: #1967D2;\n",
              "      --hover-bg-color: #E2EBFA;\n",
              "      --hover-fill-color: #174EA6;\n",
              "      --disabled-fill-color: #AAA;\n",
              "      --disabled-bg-color: #DDD;\n",
              "  }\n",
              "\n",
              "  [theme=dark] .colab-df-quickchart {\n",
              "      --bg-color: #3B4455;\n",
              "      --fill-color: #D2E3FC;\n",
              "      --hover-bg-color: #434B5C;\n",
              "      --hover-fill-color: #FFFFFF;\n",
              "      --disabled-bg-color: #3B4455;\n",
              "      --disabled-fill-color: #666;\n",
              "  }\n",
              "\n",
              "  .colab-df-quickchart {\n",
              "    background-color: var(--bg-color);\n",
              "    border: none;\n",
              "    border-radius: 50%;\n",
              "    cursor: pointer;\n",
              "    display: none;\n",
              "    fill: var(--fill-color);\n",
              "    height: 32px;\n",
              "    padding: 0;\n",
              "    width: 32px;\n",
              "  }\n",
              "\n",
              "  .colab-df-quickchart:hover {\n",
              "    background-color: var(--hover-bg-color);\n",
              "    box-shadow: 0 1px 2px rgba(60, 64, 67, 0.3), 0 1px 3px 1px rgba(60, 64, 67, 0.15);\n",
              "    fill: var(--button-hover-fill-color);\n",
              "  }\n",
              "\n",
              "  .colab-df-quickchart-complete:disabled,\n",
              "  .colab-df-quickchart-complete:disabled:hover {\n",
              "    background-color: var(--disabled-bg-color);\n",
              "    fill: var(--disabled-fill-color);\n",
              "    box-shadow: none;\n",
              "  }\n",
              "\n",
              "  .colab-df-spinner {\n",
              "    border: 2px solid var(--fill-color);\n",
              "    border-color: transparent;\n",
              "    border-bottom-color: var(--fill-color);\n",
              "    animation:\n",
              "      spin 1s steps(1) infinite;\n",
              "  }\n",
              "\n",
              "  @keyframes spin {\n",
              "    0% {\n",
              "      border-color: transparent;\n",
              "      border-bottom-color: var(--fill-color);\n",
              "      border-left-color: var(--fill-color);\n",
              "    }\n",
              "    20% {\n",
              "      border-color: transparent;\n",
              "      border-left-color: var(--fill-color);\n",
              "      border-top-color: var(--fill-color);\n",
              "    }\n",
              "    30% {\n",
              "      border-color: transparent;\n",
              "      border-left-color: var(--fill-color);\n",
              "      border-top-color: var(--fill-color);\n",
              "      border-right-color: var(--fill-color);\n",
              "    }\n",
              "    40% {\n",
              "      border-color: transparent;\n",
              "      border-right-color: var(--fill-color);\n",
              "      border-top-color: var(--fill-color);\n",
              "    }\n",
              "    60% {\n",
              "      border-color: transparent;\n",
              "      border-right-color: var(--fill-color);\n",
              "    }\n",
              "    80% {\n",
              "      border-color: transparent;\n",
              "      border-right-color: var(--fill-color);\n",
              "      border-bottom-color: var(--fill-color);\n",
              "    }\n",
              "    90% {\n",
              "      border-color: transparent;\n",
              "      border-bottom-color: var(--fill-color);\n",
              "    }\n",
              "  }\n",
              "</style>\n",
              "\n",
              "  <script>\n",
              "    async function quickchart(key) {\n",
              "      const quickchartButtonEl =\n",
              "        document.querySelector('#' + key + ' button');\n",
              "      quickchartButtonEl.disabled = true;  // To prevent multiple clicks.\n",
              "      quickchartButtonEl.classList.add('colab-df-spinner');\n",
              "      try {\n",
              "        const charts = await google.colab.kernel.invokeFunction(\n",
              "            'suggestCharts', [key], {});\n",
              "      } catch (error) {\n",
              "        console.error('Error during call to suggestCharts:', error);\n",
              "      }\n",
              "      quickchartButtonEl.classList.remove('colab-df-spinner');\n",
              "      quickchartButtonEl.classList.add('colab-df-quickchart-complete');\n",
              "    }\n",
              "    (() => {\n",
              "      let quickchartButtonEl =\n",
              "        document.querySelector('#df-35176bb8-aa02-43ab-b611-93636278a31e button');\n",
              "      quickchartButtonEl.style.display =\n",
              "        google.colab.kernel.accessAllowed ? 'block' : 'none';\n",
              "    })();\n",
              "  </script>\n",
              "</div>\n",
              "\n",
              "    </div>\n",
              "  </div>\n"
            ],
            "application/vnd.google.colaboratory.intrinsic+json": {
              "type": "dataframe",
              "variable_name": "df_orig",
              "summary": "{\n  \"name\": \"df_orig\",\n  \"rows\": 2556,\n  \"fields\": [\n    {\n      \"column\": \"Name\",\n      \"properties\": {\n        \"dtype\": \"category\",\n        \"num_unique_values\": 216,\n        \"samples\": [\n          \"Chhavi\",\n          \"Ishita\",\n          \"Divya\"\n        ],\n        \"semantic_type\": \"\",\n        \"description\": \"\"\n      }\n    },\n    {\n      \"column\": \"Gender\",\n      \"properties\": {\n        \"dtype\": \"category\",\n        \"num_unique_values\": 2,\n        \"samples\": [\n          \"Male\",\n          \"Female\"\n        ],\n        \"semantic_type\": \"\",\n        \"description\": \"\"\n      }\n    },\n    {\n      \"column\": \"Age\",\n      \"properties\": {\n        \"dtype\": \"number\",\n        \"std\": 12,\n        \"min\": 18,\n        \"max\": 60,\n        \"num_unique_values\": 43,\n        \"samples\": [\n          26,\n          19\n        ],\n        \"semantic_type\": \"\",\n        \"description\": \"\"\n      }\n    },\n    {\n      \"column\": \"City\",\n      \"properties\": {\n        \"dtype\": \"category\",\n        \"num_unique_values\": 30,\n        \"samples\": [\n          \"Nagpur\",\n          \"Surat\"\n        ],\n        \"semantic_type\": \"\",\n        \"description\": \"\"\n      }\n    },\n    {\n      \"column\": \"Working Professional or Student\",\n      \"properties\": {\n        \"dtype\": \"category\",\n        \"num_unique_values\": 2,\n        \"samples\": [\n          \"Student\",\n          \"Working Professional\"\n        ],\n        \"semantic_type\": \"\",\n        \"description\": \"\"\n      }\n    },\n    {\n      \"column\": \"Profession\",\n      \"properties\": {\n        \"dtype\": \"category\",\n        \"num_unique_values\": 35,\n        \"samples\": [\n          \"Finanancial Analyst\",\n          \"Sales Executive\"\n        ],\n        \"semantic_type\": \"\",\n        \"description\": \"\"\n      }\n    },\n    {\n      \"column\": \"Academic Pressure\",\n      \"properties\": {\n        \"dtype\": \"number\",\n        \"std\": 1.3900071309517898,\n        \"min\": 1.0,\n        \"max\": 5.0,\n        \"num_unique_values\": 5,\n        \"samples\": [\n          4.0,\n          3.0\n        ],\n        \"semantic_type\": \"\",\n        \"description\": \"\"\n      }\n    },\n    {\n      \"column\": \"Work Pressure\",\n      \"properties\": {\n        \"dtype\": \"number\",\n        \"std\": 1.4173124335300753,\n        \"min\": 1.0,\n        \"max\": 5.0,\n        \"num_unique_values\": 5,\n        \"samples\": [\n          4.0,\n          5.0\n        ],\n        \"semantic_type\": \"\",\n        \"description\": \"\"\n      }\n    },\n    {\n      \"column\": \"CGPA\",\n      \"properties\": {\n        \"dtype\": \"number\",\n        \"std\": 1.4653671817425875,\n        \"min\": 5.03,\n        \"max\": 10.0,\n        \"num_unique_values\": 312,\n        \"samples\": [\n          8.69,\n          6.75\n        ],\n        \"semantic_type\": \"\",\n        \"description\": \"\"\n      }\n    },\n    {\n      \"column\": \"Study Satisfaction\",\n      \"properties\": {\n        \"dtype\": \"number\",\n        \"std\": 1.3734897392498209,\n        \"min\": 1.0,\n        \"max\": 5.0,\n        \"num_unique_values\": 5,\n        \"samples\": [\n          5.0,\n          1.0\n        ],\n        \"semantic_type\": \"\",\n        \"description\": \"\"\n      }\n    },\n    {\n      \"column\": \"Job Satisfaction\",\n      \"properties\": {\n        \"dtype\": \"number\",\n        \"std\": 1.4184320240775223,\n        \"min\": 1.0,\n        \"max\": 5.0,\n        \"num_unique_values\": 5,\n        \"samples\": [\n          3.0,\n          1.0\n        ],\n        \"semantic_type\": \"\",\n        \"description\": \"\"\n      }\n    },\n    {\n      \"column\": \"Sleep Duration\",\n      \"properties\": {\n        \"dtype\": \"category\",\n        \"num_unique_values\": 4,\n        \"samples\": [\n          \"5-6 hours\",\n          \"Less than 5 hours\"\n        ],\n        \"semantic_type\": \"\",\n        \"description\": \"\"\n      }\n    },\n    {\n      \"column\": \"Dietary Habits\",\n      \"properties\": {\n        \"dtype\": \"category\",\n        \"num_unique_values\": 3,\n        \"samples\": [\n          \"Moderate\",\n          \"Unhealthy\"\n        ],\n        \"semantic_type\": \"\",\n        \"description\": \"\"\n      }\n    },\n    {\n      \"column\": \"Degree\",\n      \"properties\": {\n        \"dtype\": \"category\",\n        \"num_unique_values\": 27,\n        \"samples\": [\n          \"BCA\",\n          \"B.Arch\"\n        ],\n        \"semantic_type\": \"\",\n        \"description\": \"\"\n      }\n    },\n    {\n      \"column\": \"Have you ever had suicidal thoughts ?\",\n      \"properties\": {\n        \"dtype\": \"category\",\n        \"num_unique_values\": 2,\n        \"samples\": [\n          \"Yes\",\n          \"No\"\n        ],\n        \"semantic_type\": \"\",\n        \"description\": \"\"\n      }\n    },\n    {\n      \"column\": \"Work/Study Hours\",\n      \"properties\": {\n        \"dtype\": \"number\",\n        \"std\": 3,\n        \"min\": 0,\n        \"max\": 12,\n        \"num_unique_values\": 13,\n        \"samples\": [\n          2,\n          9\n        ],\n        \"semantic_type\": \"\",\n        \"description\": \"\"\n      }\n    },\n    {\n      \"column\": \"Financial Stress\",\n      \"properties\": {\n        \"dtype\": \"number\",\n        \"std\": 1,\n        \"min\": 1,\n        \"max\": 5,\n        \"num_unique_values\": 5,\n        \"samples\": [\n          4,\n          1\n        ],\n        \"semantic_type\": \"\",\n        \"description\": \"\"\n      }\n    },\n    {\n      \"column\": \"Family History of Mental Illness\",\n      \"properties\": {\n        \"dtype\": \"category\",\n        \"num_unique_values\": 2,\n        \"samples\": [\n          \"Yes\",\n          \"No\"\n        ],\n        \"semantic_type\": \"\",\n        \"description\": \"\"\n      }\n    },\n    {\n      \"column\": \"Depression\",\n      \"properties\": {\n        \"dtype\": \"category\",\n        \"num_unique_values\": 2,\n        \"samples\": [\n          \"Yes\",\n          \"No\"\n        ],\n        \"semantic_type\": \"\",\n        \"description\": \"\"\n      }\n    }\n  ]\n}"
            }
          },
          "metadata": {},
          "execution_count": 8
        }
      ]
    },
    {
      "cell_type": "code",
      "source": [
        "display(df_train.info())\n",
        "display(df_orig.info())"
      ],
      "metadata": {
        "colab": {
          "base_uri": "https://localhost:8080/",
          "height": 1000
        },
        "id": "aG2vNjdTvkOY",
        "outputId": "921e06fc-d3b4-419f-f32e-81154e03ad01"
      },
      "execution_count": 9,
      "outputs": [
        {
          "output_type": "stream",
          "name": "stdout",
          "text": [
            "<class 'pandas.core.frame.DataFrame'>\n",
            "Index: 140700 entries, 0 to 140699\n",
            "Data columns (total 19 columns):\n",
            " #   Column                                 Non-Null Count   Dtype  \n",
            "---  ------                                 --------------   -----  \n",
            " 0   Name                                   140700 non-null  object \n",
            " 1   Gender                                 140700 non-null  object \n",
            " 2   Age                                    140700 non-null  float64\n",
            " 3   City                                   140700 non-null  object \n",
            " 4   Working Professional or Student        140700 non-null  object \n",
            " 5   Profession                             104070 non-null  object \n",
            " 6   Academic Pressure                      27897 non-null   float64\n",
            " 7   Work Pressure                          112782 non-null  float64\n",
            " 8   CGPA                                   27898 non-null   float64\n",
            " 9   Study Satisfaction                     27897 non-null   float64\n",
            " 10  Job Satisfaction                       112790 non-null  float64\n",
            " 11  Sleep Duration                         140700 non-null  object \n",
            " 12  Dietary Habits                         140696 non-null  object \n",
            " 13  Degree                                 140698 non-null  object \n",
            " 14  Have you ever had suicidal thoughts ?  140700 non-null  object \n",
            " 15  Work/Study Hours                       140700 non-null  float64\n",
            " 16  Financial Stress                       140696 non-null  float64\n",
            " 17  Family History of Mental Illness       140700 non-null  object \n",
            " 18  Depression                             140700 non-null  int64  \n",
            "dtypes: float64(8), int64(1), object(10)\n",
            "memory usage: 21.5+ MB\n"
          ]
        },
        {
          "output_type": "display_data",
          "data": {
            "text/plain": [
              "None"
            ]
          },
          "metadata": {}
        },
        {
          "output_type": "stream",
          "name": "stdout",
          "text": [
            "<class 'pandas.core.frame.DataFrame'>\n",
            "RangeIndex: 2556 entries, 0 to 2555\n",
            "Data columns (total 19 columns):\n",
            " #   Column                                 Non-Null Count  Dtype  \n",
            "---  ------                                 --------------  -----  \n",
            " 0   Name                                   2556 non-null   object \n",
            " 1   Gender                                 2556 non-null   object \n",
            " 2   Age                                    2556 non-null   int64  \n",
            " 3   City                                   2556 non-null   object \n",
            " 4   Working Professional or Student        2556 non-null   object \n",
            " 5   Profession                             1883 non-null   object \n",
            " 6   Academic Pressure                      502 non-null    float64\n",
            " 7   Work Pressure                          2054 non-null   float64\n",
            " 8   CGPA                                   502 non-null    float64\n",
            " 9   Study Satisfaction                     502 non-null    float64\n",
            " 10  Job Satisfaction                       2054 non-null   float64\n",
            " 11  Sleep Duration                         2556 non-null   object \n",
            " 12  Dietary Habits                         2556 non-null   object \n",
            " 13  Degree                                 2556 non-null   object \n",
            " 14  Have you ever had suicidal thoughts ?  2556 non-null   object \n",
            " 15  Work/Study Hours                       2556 non-null   int64  \n",
            " 16  Financial Stress                       2556 non-null   int64  \n",
            " 17  Family History of Mental Illness       2556 non-null   object \n",
            " 18  Depression                             2556 non-null   object \n",
            "dtypes: float64(5), int64(3), object(11)\n",
            "memory usage: 379.5+ KB\n"
          ]
        },
        {
          "output_type": "display_data",
          "data": {
            "text/plain": [
              "None"
            ]
          },
          "metadata": {}
        }
      ]
    },
    {
      "cell_type": "code",
      "source": [
        "df_orig['Depression'] = df_orig['Depression'].map({'Yes': 1, 'No': 0})\n",
        "df_orig.head()"
      ],
      "metadata": {
        "colab": {
          "base_uri": "https://localhost:8080/",
          "height": 382
        },
        "id": "ShZwR68Ww1qT",
        "outputId": "5c707435-ee89-4614-be7b-af48297011fb"
      },
      "execution_count": 10,
      "outputs": [
        {
          "output_type": "execute_result",
          "data": {
            "text/plain": [
              "      Name  Gender  Age       City Working Professional or Student  \\\n",
              "0    Pooja  Female   37  Ghaziabad            Working Professional   \n",
              "1  Reyansh    Male   60     Kalyan            Working Professional   \n",
              "2    Manvi  Female   42     Bhopal            Working Professional   \n",
              "3     Isha  Female   44      Thane            Working Professional   \n",
              "4    Aarav    Male   48     Indore            Working Professional   \n",
              "\n",
              "          Profession  Academic Pressure  Work Pressure  CGPA  \\\n",
              "0            Teacher                NaN            2.0   NaN   \n",
              "1  Financial Analyst                NaN            4.0   NaN   \n",
              "2            Teacher                NaN            2.0   NaN   \n",
              "3            Teacher                NaN            3.0   NaN   \n",
              "4     UX/UI Designer                NaN            4.0   NaN   \n",
              "\n",
              "   Study Satisfaction  Job Satisfaction Sleep Duration Dietary Habits Degree  \\\n",
              "0                 NaN               4.0      7-8 hours       Moderate     MA   \n",
              "1                 NaN               3.0      5-6 hours      Unhealthy  B.Com   \n",
              "2                 NaN               3.0      5-6 hours       Moderate  M.Com   \n",
              "3                 NaN               5.0      7-8 hours        Healthy     MD   \n",
              "4                 NaN               3.0      7-8 hours       Moderate     BE   \n",
              "\n",
              "  Have you ever had suicidal thoughts ?  Work/Study Hours  Financial Stress  \\\n",
              "0                                    No                 6                 2   \n",
              "1                                   Yes                 0                 4   \n",
              "2                                    No                 0                 2   \n",
              "3                                   Yes                 1                 2   \n",
              "4                                   Yes                 6                 5   \n",
              "\n",
              "  Family History of Mental Illness  Depression  \n",
              "0                               No           0  \n",
              "1                              Yes           0  \n",
              "2                               No           0  \n",
              "3                              Yes           0  \n",
              "4                              Yes           0  "
            ],
            "text/html": [
              "\n",
              "  <div id=\"df-aaea3ed0-245f-43e0-90b5-dbd503f29ace\" class=\"colab-df-container\">\n",
              "    <div>\n",
              "<style scoped>\n",
              "    .dataframe tbody tr th:only-of-type {\n",
              "        vertical-align: middle;\n",
              "    }\n",
              "\n",
              "    .dataframe tbody tr th {\n",
              "        vertical-align: top;\n",
              "    }\n",
              "\n",
              "    .dataframe thead th {\n",
              "        text-align: right;\n",
              "    }\n",
              "</style>\n",
              "<table border=\"1\" class=\"dataframe\">\n",
              "  <thead>\n",
              "    <tr style=\"text-align: right;\">\n",
              "      <th></th>\n",
              "      <th>Name</th>\n",
              "      <th>Gender</th>\n",
              "      <th>Age</th>\n",
              "      <th>City</th>\n",
              "      <th>Working Professional or Student</th>\n",
              "      <th>Profession</th>\n",
              "      <th>Academic Pressure</th>\n",
              "      <th>Work Pressure</th>\n",
              "      <th>CGPA</th>\n",
              "      <th>Study Satisfaction</th>\n",
              "      <th>Job Satisfaction</th>\n",
              "      <th>Sleep Duration</th>\n",
              "      <th>Dietary Habits</th>\n",
              "      <th>Degree</th>\n",
              "      <th>Have you ever had suicidal thoughts ?</th>\n",
              "      <th>Work/Study Hours</th>\n",
              "      <th>Financial Stress</th>\n",
              "      <th>Family History of Mental Illness</th>\n",
              "      <th>Depression</th>\n",
              "    </tr>\n",
              "  </thead>\n",
              "  <tbody>\n",
              "    <tr>\n",
              "      <th>0</th>\n",
              "      <td>Pooja</td>\n",
              "      <td>Female</td>\n",
              "      <td>37</td>\n",
              "      <td>Ghaziabad</td>\n",
              "      <td>Working Professional</td>\n",
              "      <td>Teacher</td>\n",
              "      <td>NaN</td>\n",
              "      <td>2.0</td>\n",
              "      <td>NaN</td>\n",
              "      <td>NaN</td>\n",
              "      <td>4.0</td>\n",
              "      <td>7-8 hours</td>\n",
              "      <td>Moderate</td>\n",
              "      <td>MA</td>\n",
              "      <td>No</td>\n",
              "      <td>6</td>\n",
              "      <td>2</td>\n",
              "      <td>No</td>\n",
              "      <td>0</td>\n",
              "    </tr>\n",
              "    <tr>\n",
              "      <th>1</th>\n",
              "      <td>Reyansh</td>\n",
              "      <td>Male</td>\n",
              "      <td>60</td>\n",
              "      <td>Kalyan</td>\n",
              "      <td>Working Professional</td>\n",
              "      <td>Financial Analyst</td>\n",
              "      <td>NaN</td>\n",
              "      <td>4.0</td>\n",
              "      <td>NaN</td>\n",
              "      <td>NaN</td>\n",
              "      <td>3.0</td>\n",
              "      <td>5-6 hours</td>\n",
              "      <td>Unhealthy</td>\n",
              "      <td>B.Com</td>\n",
              "      <td>Yes</td>\n",
              "      <td>0</td>\n",
              "      <td>4</td>\n",
              "      <td>Yes</td>\n",
              "      <td>0</td>\n",
              "    </tr>\n",
              "    <tr>\n",
              "      <th>2</th>\n",
              "      <td>Manvi</td>\n",
              "      <td>Female</td>\n",
              "      <td>42</td>\n",
              "      <td>Bhopal</td>\n",
              "      <td>Working Professional</td>\n",
              "      <td>Teacher</td>\n",
              "      <td>NaN</td>\n",
              "      <td>2.0</td>\n",
              "      <td>NaN</td>\n",
              "      <td>NaN</td>\n",
              "      <td>3.0</td>\n",
              "      <td>5-6 hours</td>\n",
              "      <td>Moderate</td>\n",
              "      <td>M.Com</td>\n",
              "      <td>No</td>\n",
              "      <td>0</td>\n",
              "      <td>2</td>\n",
              "      <td>No</td>\n",
              "      <td>0</td>\n",
              "    </tr>\n",
              "    <tr>\n",
              "      <th>3</th>\n",
              "      <td>Isha</td>\n",
              "      <td>Female</td>\n",
              "      <td>44</td>\n",
              "      <td>Thane</td>\n",
              "      <td>Working Professional</td>\n",
              "      <td>Teacher</td>\n",
              "      <td>NaN</td>\n",
              "      <td>3.0</td>\n",
              "      <td>NaN</td>\n",
              "      <td>NaN</td>\n",
              "      <td>5.0</td>\n",
              "      <td>7-8 hours</td>\n",
              "      <td>Healthy</td>\n",
              "      <td>MD</td>\n",
              "      <td>Yes</td>\n",
              "      <td>1</td>\n",
              "      <td>2</td>\n",
              "      <td>Yes</td>\n",
              "      <td>0</td>\n",
              "    </tr>\n",
              "    <tr>\n",
              "      <th>4</th>\n",
              "      <td>Aarav</td>\n",
              "      <td>Male</td>\n",
              "      <td>48</td>\n",
              "      <td>Indore</td>\n",
              "      <td>Working Professional</td>\n",
              "      <td>UX/UI Designer</td>\n",
              "      <td>NaN</td>\n",
              "      <td>4.0</td>\n",
              "      <td>NaN</td>\n",
              "      <td>NaN</td>\n",
              "      <td>3.0</td>\n",
              "      <td>7-8 hours</td>\n",
              "      <td>Moderate</td>\n",
              "      <td>BE</td>\n",
              "      <td>Yes</td>\n",
              "      <td>6</td>\n",
              "      <td>5</td>\n",
              "      <td>Yes</td>\n",
              "      <td>0</td>\n",
              "    </tr>\n",
              "  </tbody>\n",
              "</table>\n",
              "</div>\n",
              "    <div class=\"colab-df-buttons\">\n",
              "\n",
              "  <div class=\"colab-df-container\">\n",
              "    <button class=\"colab-df-convert\" onclick=\"convertToInteractive('df-aaea3ed0-245f-43e0-90b5-dbd503f29ace')\"\n",
              "            title=\"Convert this dataframe to an interactive table.\"\n",
              "            style=\"display:none;\">\n",
              "\n",
              "  <svg xmlns=\"http://www.w3.org/2000/svg\" height=\"24px\" viewBox=\"0 -960 960 960\">\n",
              "    <path d=\"M120-120v-720h720v720H120Zm60-500h600v-160H180v160Zm220 220h160v-160H400v160Zm0 220h160v-160H400v160ZM180-400h160v-160H180v160Zm440 0h160v-160H620v160ZM180-180h160v-160H180v160Zm440 0h160v-160H620v160Z\"/>\n",
              "  </svg>\n",
              "    </button>\n",
              "\n",
              "  <style>\n",
              "    .colab-df-container {\n",
              "      display:flex;\n",
              "      gap: 12px;\n",
              "    }\n",
              "\n",
              "    .colab-df-convert {\n",
              "      background-color: #E8F0FE;\n",
              "      border: none;\n",
              "      border-radius: 50%;\n",
              "      cursor: pointer;\n",
              "      display: none;\n",
              "      fill: #1967D2;\n",
              "      height: 32px;\n",
              "      padding: 0 0 0 0;\n",
              "      width: 32px;\n",
              "    }\n",
              "\n",
              "    .colab-df-convert:hover {\n",
              "      background-color: #E2EBFA;\n",
              "      box-shadow: 0px 1px 2px rgba(60, 64, 67, 0.3), 0px 1px 3px 1px rgba(60, 64, 67, 0.15);\n",
              "      fill: #174EA6;\n",
              "    }\n",
              "\n",
              "    .colab-df-buttons div {\n",
              "      margin-bottom: 4px;\n",
              "    }\n",
              "\n",
              "    [theme=dark] .colab-df-convert {\n",
              "      background-color: #3B4455;\n",
              "      fill: #D2E3FC;\n",
              "    }\n",
              "\n",
              "    [theme=dark] .colab-df-convert:hover {\n",
              "      background-color: #434B5C;\n",
              "      box-shadow: 0px 1px 3px 1px rgba(0, 0, 0, 0.15);\n",
              "      filter: drop-shadow(0px 1px 2px rgba(0, 0, 0, 0.3));\n",
              "      fill: #FFFFFF;\n",
              "    }\n",
              "  </style>\n",
              "\n",
              "    <script>\n",
              "      const buttonEl =\n",
              "        document.querySelector('#df-aaea3ed0-245f-43e0-90b5-dbd503f29ace button.colab-df-convert');\n",
              "      buttonEl.style.display =\n",
              "        google.colab.kernel.accessAllowed ? 'block' : 'none';\n",
              "\n",
              "      async function convertToInteractive(key) {\n",
              "        const element = document.querySelector('#df-aaea3ed0-245f-43e0-90b5-dbd503f29ace');\n",
              "        const dataTable =\n",
              "          await google.colab.kernel.invokeFunction('convertToInteractive',\n",
              "                                                    [key], {});\n",
              "        if (!dataTable) return;\n",
              "\n",
              "        const docLinkHtml = 'Like what you see? Visit the ' +\n",
              "          '<a target=\"_blank\" href=https://colab.research.google.com/notebooks/data_table.ipynb>data table notebook</a>'\n",
              "          + ' to learn more about interactive tables.';\n",
              "        element.innerHTML = '';\n",
              "        dataTable['output_type'] = 'display_data';\n",
              "        await google.colab.output.renderOutput(dataTable, element);\n",
              "        const docLink = document.createElement('div');\n",
              "        docLink.innerHTML = docLinkHtml;\n",
              "        element.appendChild(docLink);\n",
              "      }\n",
              "    </script>\n",
              "  </div>\n",
              "\n",
              "\n",
              "<div id=\"df-062be0e1-4e5e-4414-b809-df9df761c00c\">\n",
              "  <button class=\"colab-df-quickchart\" onclick=\"quickchart('df-062be0e1-4e5e-4414-b809-df9df761c00c')\"\n",
              "            title=\"Suggest charts\"\n",
              "            style=\"display:none;\">\n",
              "\n",
              "<svg xmlns=\"http://www.w3.org/2000/svg\" height=\"24px\"viewBox=\"0 0 24 24\"\n",
              "     width=\"24px\">\n",
              "    <g>\n",
              "        <path d=\"M19 3H5c-1.1 0-2 .9-2 2v14c0 1.1.9 2 2 2h14c1.1 0 2-.9 2-2V5c0-1.1-.9-2-2-2zM9 17H7v-7h2v7zm4 0h-2V7h2v10zm4 0h-2v-4h2v4z\"/>\n",
              "    </g>\n",
              "</svg>\n",
              "  </button>\n",
              "\n",
              "<style>\n",
              "  .colab-df-quickchart {\n",
              "      --bg-color: #E8F0FE;\n",
              "      --fill-color: #1967D2;\n",
              "      --hover-bg-color: #E2EBFA;\n",
              "      --hover-fill-color: #174EA6;\n",
              "      --disabled-fill-color: #AAA;\n",
              "      --disabled-bg-color: #DDD;\n",
              "  }\n",
              "\n",
              "  [theme=dark] .colab-df-quickchart {\n",
              "      --bg-color: #3B4455;\n",
              "      --fill-color: #D2E3FC;\n",
              "      --hover-bg-color: #434B5C;\n",
              "      --hover-fill-color: #FFFFFF;\n",
              "      --disabled-bg-color: #3B4455;\n",
              "      --disabled-fill-color: #666;\n",
              "  }\n",
              "\n",
              "  .colab-df-quickchart {\n",
              "    background-color: var(--bg-color);\n",
              "    border: none;\n",
              "    border-radius: 50%;\n",
              "    cursor: pointer;\n",
              "    display: none;\n",
              "    fill: var(--fill-color);\n",
              "    height: 32px;\n",
              "    padding: 0;\n",
              "    width: 32px;\n",
              "  }\n",
              "\n",
              "  .colab-df-quickchart:hover {\n",
              "    background-color: var(--hover-bg-color);\n",
              "    box-shadow: 0 1px 2px rgba(60, 64, 67, 0.3), 0 1px 3px 1px rgba(60, 64, 67, 0.15);\n",
              "    fill: var(--button-hover-fill-color);\n",
              "  }\n",
              "\n",
              "  .colab-df-quickchart-complete:disabled,\n",
              "  .colab-df-quickchart-complete:disabled:hover {\n",
              "    background-color: var(--disabled-bg-color);\n",
              "    fill: var(--disabled-fill-color);\n",
              "    box-shadow: none;\n",
              "  }\n",
              "\n",
              "  .colab-df-spinner {\n",
              "    border: 2px solid var(--fill-color);\n",
              "    border-color: transparent;\n",
              "    border-bottom-color: var(--fill-color);\n",
              "    animation:\n",
              "      spin 1s steps(1) infinite;\n",
              "  }\n",
              "\n",
              "  @keyframes spin {\n",
              "    0% {\n",
              "      border-color: transparent;\n",
              "      border-bottom-color: var(--fill-color);\n",
              "      border-left-color: var(--fill-color);\n",
              "    }\n",
              "    20% {\n",
              "      border-color: transparent;\n",
              "      border-left-color: var(--fill-color);\n",
              "      border-top-color: var(--fill-color);\n",
              "    }\n",
              "    30% {\n",
              "      border-color: transparent;\n",
              "      border-left-color: var(--fill-color);\n",
              "      border-top-color: var(--fill-color);\n",
              "      border-right-color: var(--fill-color);\n",
              "    }\n",
              "    40% {\n",
              "      border-color: transparent;\n",
              "      border-right-color: var(--fill-color);\n",
              "      border-top-color: var(--fill-color);\n",
              "    }\n",
              "    60% {\n",
              "      border-color: transparent;\n",
              "      border-right-color: var(--fill-color);\n",
              "    }\n",
              "    80% {\n",
              "      border-color: transparent;\n",
              "      border-right-color: var(--fill-color);\n",
              "      border-bottom-color: var(--fill-color);\n",
              "    }\n",
              "    90% {\n",
              "      border-color: transparent;\n",
              "      border-bottom-color: var(--fill-color);\n",
              "    }\n",
              "  }\n",
              "</style>\n",
              "\n",
              "  <script>\n",
              "    async function quickchart(key) {\n",
              "      const quickchartButtonEl =\n",
              "        document.querySelector('#' + key + ' button');\n",
              "      quickchartButtonEl.disabled = true;  // To prevent multiple clicks.\n",
              "      quickchartButtonEl.classList.add('colab-df-spinner');\n",
              "      try {\n",
              "        const charts = await google.colab.kernel.invokeFunction(\n",
              "            'suggestCharts', [key], {});\n",
              "      } catch (error) {\n",
              "        console.error('Error during call to suggestCharts:', error);\n",
              "      }\n",
              "      quickchartButtonEl.classList.remove('colab-df-spinner');\n",
              "      quickchartButtonEl.classList.add('colab-df-quickchart-complete');\n",
              "    }\n",
              "    (() => {\n",
              "      let quickchartButtonEl =\n",
              "        document.querySelector('#df-062be0e1-4e5e-4414-b809-df9df761c00c button');\n",
              "      quickchartButtonEl.style.display =\n",
              "        google.colab.kernel.accessAllowed ? 'block' : 'none';\n",
              "    })();\n",
              "  </script>\n",
              "</div>\n",
              "\n",
              "    </div>\n",
              "  </div>\n"
            ],
            "application/vnd.google.colaboratory.intrinsic+json": {
              "type": "dataframe",
              "variable_name": "df_orig",
              "summary": "{\n  \"name\": \"df_orig\",\n  \"rows\": 2556,\n  \"fields\": [\n    {\n      \"column\": \"Name\",\n      \"properties\": {\n        \"dtype\": \"category\",\n        \"num_unique_values\": 216,\n        \"samples\": [\n          \"Chhavi\",\n          \"Ishita\",\n          \"Divya\"\n        ],\n        \"semantic_type\": \"\",\n        \"description\": \"\"\n      }\n    },\n    {\n      \"column\": \"Gender\",\n      \"properties\": {\n        \"dtype\": \"category\",\n        \"num_unique_values\": 2,\n        \"samples\": [\n          \"Male\",\n          \"Female\"\n        ],\n        \"semantic_type\": \"\",\n        \"description\": \"\"\n      }\n    },\n    {\n      \"column\": \"Age\",\n      \"properties\": {\n        \"dtype\": \"number\",\n        \"std\": 12,\n        \"min\": 18,\n        \"max\": 60,\n        \"num_unique_values\": 43,\n        \"samples\": [\n          26,\n          19\n        ],\n        \"semantic_type\": \"\",\n        \"description\": \"\"\n      }\n    },\n    {\n      \"column\": \"City\",\n      \"properties\": {\n        \"dtype\": \"category\",\n        \"num_unique_values\": 30,\n        \"samples\": [\n          \"Nagpur\",\n          \"Surat\"\n        ],\n        \"semantic_type\": \"\",\n        \"description\": \"\"\n      }\n    },\n    {\n      \"column\": \"Working Professional or Student\",\n      \"properties\": {\n        \"dtype\": \"category\",\n        \"num_unique_values\": 2,\n        \"samples\": [\n          \"Student\",\n          \"Working Professional\"\n        ],\n        \"semantic_type\": \"\",\n        \"description\": \"\"\n      }\n    },\n    {\n      \"column\": \"Profession\",\n      \"properties\": {\n        \"dtype\": \"category\",\n        \"num_unique_values\": 35,\n        \"samples\": [\n          \"Finanancial Analyst\",\n          \"Sales Executive\"\n        ],\n        \"semantic_type\": \"\",\n        \"description\": \"\"\n      }\n    },\n    {\n      \"column\": \"Academic Pressure\",\n      \"properties\": {\n        \"dtype\": \"number\",\n        \"std\": 1.3900071309517898,\n        \"min\": 1.0,\n        \"max\": 5.0,\n        \"num_unique_values\": 5,\n        \"samples\": [\n          4.0,\n          3.0\n        ],\n        \"semantic_type\": \"\",\n        \"description\": \"\"\n      }\n    },\n    {\n      \"column\": \"Work Pressure\",\n      \"properties\": {\n        \"dtype\": \"number\",\n        \"std\": 1.4173124335300753,\n        \"min\": 1.0,\n        \"max\": 5.0,\n        \"num_unique_values\": 5,\n        \"samples\": [\n          4.0,\n          5.0\n        ],\n        \"semantic_type\": \"\",\n        \"description\": \"\"\n      }\n    },\n    {\n      \"column\": \"CGPA\",\n      \"properties\": {\n        \"dtype\": \"number\",\n        \"std\": 1.4653671817425875,\n        \"min\": 5.03,\n        \"max\": 10.0,\n        \"num_unique_values\": 312,\n        \"samples\": [\n          8.69,\n          6.75\n        ],\n        \"semantic_type\": \"\",\n        \"description\": \"\"\n      }\n    },\n    {\n      \"column\": \"Study Satisfaction\",\n      \"properties\": {\n        \"dtype\": \"number\",\n        \"std\": 1.3734897392498209,\n        \"min\": 1.0,\n        \"max\": 5.0,\n        \"num_unique_values\": 5,\n        \"samples\": [\n          5.0,\n          1.0\n        ],\n        \"semantic_type\": \"\",\n        \"description\": \"\"\n      }\n    },\n    {\n      \"column\": \"Job Satisfaction\",\n      \"properties\": {\n        \"dtype\": \"number\",\n        \"std\": 1.4184320240775223,\n        \"min\": 1.0,\n        \"max\": 5.0,\n        \"num_unique_values\": 5,\n        \"samples\": [\n          3.0,\n          1.0\n        ],\n        \"semantic_type\": \"\",\n        \"description\": \"\"\n      }\n    },\n    {\n      \"column\": \"Sleep Duration\",\n      \"properties\": {\n        \"dtype\": \"category\",\n        \"num_unique_values\": 4,\n        \"samples\": [\n          \"5-6 hours\",\n          \"Less than 5 hours\"\n        ],\n        \"semantic_type\": \"\",\n        \"description\": \"\"\n      }\n    },\n    {\n      \"column\": \"Dietary Habits\",\n      \"properties\": {\n        \"dtype\": \"category\",\n        \"num_unique_values\": 3,\n        \"samples\": [\n          \"Moderate\",\n          \"Unhealthy\"\n        ],\n        \"semantic_type\": \"\",\n        \"description\": \"\"\n      }\n    },\n    {\n      \"column\": \"Degree\",\n      \"properties\": {\n        \"dtype\": \"category\",\n        \"num_unique_values\": 27,\n        \"samples\": [\n          \"BCA\",\n          \"B.Arch\"\n        ],\n        \"semantic_type\": \"\",\n        \"description\": \"\"\n      }\n    },\n    {\n      \"column\": \"Have you ever had suicidal thoughts ?\",\n      \"properties\": {\n        \"dtype\": \"category\",\n        \"num_unique_values\": 2,\n        \"samples\": [\n          \"Yes\",\n          \"No\"\n        ],\n        \"semantic_type\": \"\",\n        \"description\": \"\"\n      }\n    },\n    {\n      \"column\": \"Work/Study Hours\",\n      \"properties\": {\n        \"dtype\": \"number\",\n        \"std\": 3,\n        \"min\": 0,\n        \"max\": 12,\n        \"num_unique_values\": 13,\n        \"samples\": [\n          2,\n          9\n        ],\n        \"semantic_type\": \"\",\n        \"description\": \"\"\n      }\n    },\n    {\n      \"column\": \"Financial Stress\",\n      \"properties\": {\n        \"dtype\": \"number\",\n        \"std\": 1,\n        \"min\": 1,\n        \"max\": 5,\n        \"num_unique_values\": 5,\n        \"samples\": [\n          4,\n          1\n        ],\n        \"semantic_type\": \"\",\n        \"description\": \"\"\n      }\n    },\n    {\n      \"column\": \"Family History of Mental Illness\",\n      \"properties\": {\n        \"dtype\": \"category\",\n        \"num_unique_values\": 2,\n        \"samples\": [\n          \"Yes\",\n          \"No\"\n        ],\n        \"semantic_type\": \"\",\n        \"description\": \"\"\n      }\n    },\n    {\n      \"column\": \"Depression\",\n      \"properties\": {\n        \"dtype\": \"number\",\n        \"std\": 0,\n        \"min\": 0,\n        \"max\": 1,\n        \"num_unique_values\": 2,\n        \"samples\": [\n          1,\n          0\n        ],\n        \"semantic_type\": \"\",\n        \"description\": \"\"\n      }\n    }\n  ]\n}"
            }
          },
          "metadata": {},
          "execution_count": 10
        }
      ]
    },
    {
      "cell_type": "code",
      "source": [
        "cat = df_train.select_dtypes(include='object')\n",
        "\n",
        "for i in cat.columns:\n",
        "  print(i, cat[i].nunique())"
      ],
      "metadata": {
        "colab": {
          "base_uri": "https://localhost:8080/"
        },
        "id": "KuQnw2UloNK0",
        "outputId": "1c421573-769b-4f95-e21c-03e50dafa669"
      },
      "execution_count": 11,
      "outputs": [
        {
          "output_type": "stream",
          "name": "stdout",
          "text": [
            "Name 422\n",
            "Gender 2\n",
            "City 98\n",
            "Working Professional or Student 2\n",
            "Profession 64\n",
            "Sleep Duration 36\n",
            "Dietary Habits 23\n",
            "Degree 115\n",
            "Have you ever had suicidal thoughts ? 2\n",
            "Family History of Mental Illness 2\n"
          ]
        }
      ]
    },
    {
      "cell_type": "code",
      "source": [
        "df_combined = pd.concat([df_train, df_orig], axis=0)\n",
        "df_combined.info()"
      ],
      "metadata": {
        "colab": {
          "base_uri": "https://localhost:8080/"
        },
        "id": "_Ug9gqajoVlb",
        "outputId": "ce0a3da5-f6d5-4020-f9b2-368b40300cfd"
      },
      "execution_count": 12,
      "outputs": [
        {
          "output_type": "stream",
          "name": "stdout",
          "text": [
            "<class 'pandas.core.frame.DataFrame'>\n",
            "Index: 143256 entries, 0 to 2555\n",
            "Data columns (total 19 columns):\n",
            " #   Column                                 Non-Null Count   Dtype  \n",
            "---  ------                                 --------------   -----  \n",
            " 0   Name                                   143256 non-null  object \n",
            " 1   Gender                                 143256 non-null  object \n",
            " 2   Age                                    143256 non-null  float64\n",
            " 3   City                                   143256 non-null  object \n",
            " 4   Working Professional or Student        143256 non-null  object \n",
            " 5   Profession                             105953 non-null  object \n",
            " 6   Academic Pressure                      28399 non-null   float64\n",
            " 7   Work Pressure                          114836 non-null  float64\n",
            " 8   CGPA                                   28400 non-null   float64\n",
            " 9   Study Satisfaction                     28399 non-null   float64\n",
            " 10  Job Satisfaction                       114844 non-null  float64\n",
            " 11  Sleep Duration                         143256 non-null  object \n",
            " 12  Dietary Habits                         143252 non-null  object \n",
            " 13  Degree                                 143254 non-null  object \n",
            " 14  Have you ever had suicidal thoughts ?  143256 non-null  object \n",
            " 15  Work/Study Hours                       143256 non-null  float64\n",
            " 16  Financial Stress                       143252 non-null  float64\n",
            " 17  Family History of Mental Illness       143256 non-null  object \n",
            " 18  Depression                             143256 non-null  int64  \n",
            "dtypes: float64(8), int64(1), object(10)\n",
            "memory usage: 21.9+ MB\n"
          ]
        }
      ]
    },
    {
      "cell_type": "code",
      "source": [
        "y = df_combined['Depression']\n",
        "X = df_combined.drop('Depression', axis=1)"
      ],
      "metadata": {
        "id": "VOVPh_fexOy2"
      },
      "execution_count": 13,
      "outputs": []
    },
    {
      "cell_type": "code",
      "source": [
        "for i in X[['Academic Pressure', 'Work Pressure', 'CGPA', 'Study Satisfaction', 'Job Satisfaction']].columns:\n",
        "  print(i, X[i].value_counts())"
      ],
      "metadata": {
        "colab": {
          "base_uri": "https://localhost:8080/"
        },
        "id": "2mKR4myoxY8l",
        "outputId": "af025645-37c5-4d6b-94af-f11d052fa45c"
      },
      "execution_count": 14,
      "outputs": [
        {
          "output_type": "stream",
          "name": "stdout",
          "text": [
            "Academic Pressure Academic Pressure\n",
            "3.0    7588\n",
            "5.0    6394\n",
            "4.0    5250\n",
            "1.0    4900\n",
            "2.0    4267\n",
            "Name: count, dtype: int64\n",
            "Work Pressure Work Pressure\n",
            "2.0    24786\n",
            "4.0    22924\n",
            "5.0    22860\n",
            "3.0    22303\n",
            "1.0    21963\n",
            "Name: count, dtype: int64\n",
            "CGPA CGPA\n",
            "8.0400    829\n",
            "9.9600    429\n",
            "5.7400    415\n",
            "8.9500    375\n",
            "9.2100    347\n",
            "         ... \n",
            "6.6400      1\n",
            "7.0625      1\n",
            "6.9800      1\n",
            "6.4400      1\n",
            "6.0900      1\n",
            "Name: count, Length: 331, dtype: int64\n",
            "Study Satisfaction Study Satisfaction\n",
            "4.0    6476\n",
            "2.0    5940\n",
            "3.0    5926\n",
            "1.0    5537\n",
            "5.0    4520\n",
            "Name: count, dtype: int64\n",
            "Job Satisfaction Job Satisfaction\n",
            "2.0    25214\n",
            "5.0    23243\n",
            "1.0    22720\n",
            "3.0    22355\n",
            "4.0    21312\n",
            "Name: count, dtype: int64\n"
          ]
        }
      ]
    },
    {
      "cell_type": "code",
      "source": [
        "imputer=SimpleImputer(strategy = 'constant')"
      ],
      "metadata": {
        "id": "S9B6pmLdx48c"
      },
      "execution_count": 15,
      "outputs": []
    },
    {
      "cell_type": "code",
      "source": [
        "cat_feat = X.select_dtypes(include='object').columns\n",
        "num_feat = X.select_dtypes(exclude='object').columns"
      ],
      "metadata": {
        "id": "iYmQx7pK4WGm"
      },
      "execution_count": 16,
      "outputs": []
    },
    {
      "cell_type": "code",
      "source": [
        "X[num_feat].isnull().sum()"
      ],
      "metadata": {
        "colab": {
          "base_uri": "https://localhost:8080/",
          "height": 335
        },
        "id": "l4BjBG6Z4aoK",
        "outputId": "ad863e62-909b-4bac-8121-efa5735ec9c0"
      },
      "execution_count": 17,
      "outputs": [
        {
          "output_type": "execute_result",
          "data": {
            "text/plain": [
              "Age                        0\n",
              "Academic Pressure     114857\n",
              "Work Pressure          28420\n",
              "CGPA                  114856\n",
              "Study Satisfaction    114857\n",
              "Job Satisfaction       28412\n",
              "Work/Study Hours           0\n",
              "Financial Stress           4\n",
              "dtype: int64"
            ],
            "text/html": [
              "<div>\n",
              "<style scoped>\n",
              "    .dataframe tbody tr th:only-of-type {\n",
              "        vertical-align: middle;\n",
              "    }\n",
              "\n",
              "    .dataframe tbody tr th {\n",
              "        vertical-align: top;\n",
              "    }\n",
              "\n",
              "    .dataframe thead th {\n",
              "        text-align: right;\n",
              "    }\n",
              "</style>\n",
              "<table border=\"1\" class=\"dataframe\">\n",
              "  <thead>\n",
              "    <tr style=\"text-align: right;\">\n",
              "      <th></th>\n",
              "      <th>0</th>\n",
              "    </tr>\n",
              "  </thead>\n",
              "  <tbody>\n",
              "    <tr>\n",
              "      <th>Age</th>\n",
              "      <td>0</td>\n",
              "    </tr>\n",
              "    <tr>\n",
              "      <th>Academic Pressure</th>\n",
              "      <td>114857</td>\n",
              "    </tr>\n",
              "    <tr>\n",
              "      <th>Work Pressure</th>\n",
              "      <td>28420</td>\n",
              "    </tr>\n",
              "    <tr>\n",
              "      <th>CGPA</th>\n",
              "      <td>114856</td>\n",
              "    </tr>\n",
              "    <tr>\n",
              "      <th>Study Satisfaction</th>\n",
              "      <td>114857</td>\n",
              "    </tr>\n",
              "    <tr>\n",
              "      <th>Job Satisfaction</th>\n",
              "      <td>28412</td>\n",
              "    </tr>\n",
              "    <tr>\n",
              "      <th>Work/Study Hours</th>\n",
              "      <td>0</td>\n",
              "    </tr>\n",
              "    <tr>\n",
              "      <th>Financial Stress</th>\n",
              "      <td>4</td>\n",
              "    </tr>\n",
              "  </tbody>\n",
              "</table>\n",
              "</div><br><label><b>dtype:</b> int64</label>"
            ]
          },
          "metadata": {},
          "execution_count": 17
        }
      ]
    },
    {
      "cell_type": "code",
      "source": [
        "num1 =[]\n",
        "num2 = []\n",
        "for  i in num_feat:\n",
        "  if X[i].isnull().sum() > 20000:\n",
        "    num1.append(i)\n",
        "  else:\n",
        "    num2.append(i)"
      ],
      "metadata": {
        "id": "oNHidVLSyqW9"
      },
      "execution_count": 18,
      "outputs": []
    },
    {
      "cell_type": "code",
      "source": [
        "cat1 =[]\n",
        "cat2 = []\n",
        "for  i in cat_feat:\n",
        "  if X[i].isnull().sum() > 20000:\n",
        "    cat1.append(i)\n",
        "  else:\n",
        "    cat2.append(i)"
      ],
      "metadata": {
        "id": "8-bdn-150dmf"
      },
      "execution_count": 19,
      "outputs": []
    },
    {
      "cell_type": "code",
      "source": [
        "print(num1)\n",
        "print(num2)\n",
        "print(cat1)\n",
        "print(cat2)"
      ],
      "metadata": {
        "colab": {
          "base_uri": "https://localhost:8080/"
        },
        "id": "ZpljWnGA55WR",
        "outputId": "faa65fbd-081a-488a-9b39-7bd69e6a27ff"
      },
      "execution_count": 20,
      "outputs": [
        {
          "output_type": "stream",
          "name": "stdout",
          "text": [
            "['Academic Pressure', 'Work Pressure', 'CGPA', 'Study Satisfaction', 'Job Satisfaction']\n",
            "['Age', 'Work/Study Hours', 'Financial Stress']\n",
            "['Profession']\n",
            "['Name', 'Gender', 'City', 'Working Professional or Student', 'Sleep Duration', 'Dietary Habits', 'Degree', 'Have you ever had suicidal thoughts ?', 'Family History of Mental Illness']\n"
          ]
        }
      ]
    },
    {
      "cell_type": "code",
      "source": [
        "X[num1].isnull().sum()"
      ],
      "metadata": {
        "colab": {
          "base_uri": "https://localhost:8080/",
          "height": 241
        },
        "id": "jqf9ZwCx8ey0",
        "outputId": "aaf1e529-6a7f-41a5-e5ad-c7ba24358932"
      },
      "execution_count": 21,
      "outputs": [
        {
          "output_type": "execute_result",
          "data": {
            "text/plain": [
              "Academic Pressure     114857\n",
              "Work Pressure          28420\n",
              "CGPA                  114856\n",
              "Study Satisfaction    114857\n",
              "Job Satisfaction       28412\n",
              "dtype: int64"
            ],
            "text/html": [
              "<div>\n",
              "<style scoped>\n",
              "    .dataframe tbody tr th:only-of-type {\n",
              "        vertical-align: middle;\n",
              "    }\n",
              "\n",
              "    .dataframe tbody tr th {\n",
              "        vertical-align: top;\n",
              "    }\n",
              "\n",
              "    .dataframe thead th {\n",
              "        text-align: right;\n",
              "    }\n",
              "</style>\n",
              "<table border=\"1\" class=\"dataframe\">\n",
              "  <thead>\n",
              "    <tr style=\"text-align: right;\">\n",
              "      <th></th>\n",
              "      <th>0</th>\n",
              "    </tr>\n",
              "  </thead>\n",
              "  <tbody>\n",
              "    <tr>\n",
              "      <th>Academic Pressure</th>\n",
              "      <td>114857</td>\n",
              "    </tr>\n",
              "    <tr>\n",
              "      <th>Work Pressure</th>\n",
              "      <td>28420</td>\n",
              "    </tr>\n",
              "    <tr>\n",
              "      <th>CGPA</th>\n",
              "      <td>114856</td>\n",
              "    </tr>\n",
              "    <tr>\n",
              "      <th>Study Satisfaction</th>\n",
              "      <td>114857</td>\n",
              "    </tr>\n",
              "    <tr>\n",
              "      <th>Job Satisfaction</th>\n",
              "      <td>28412</td>\n",
              "    </tr>\n",
              "  </tbody>\n",
              "</table>\n",
              "</div><br><label><b>dtype:</b> int64</label>"
            ]
          },
          "metadata": {},
          "execution_count": 21
        }
      ]
    },
    {
      "cell_type": "code",
      "source": [
        "imputer_const = SimpleImputer(strategy='constant')\n",
        "imputer_mf = SimpleImputer(strategy='most_frequent')\n",
        "\n",
        "num1_re = imputer_const.fit_transform(X[num1])\n",
        "num1_re_test = imputer_const.transform(df_test[num1])\n",
        "num2_re = imputer_mf.fit_transform(X[num2])\n",
        "num2_re_test = imputer_mf.transform(df_test[num2])\n",
        "cat1_re = imputer_const.fit_transform(X[cat1])\n",
        "cat1_re_test = imputer_const.transform(df_test[cat1])\n",
        "cat2_re = imputer_mf.fit_transform(X[cat2])\n",
        "cat2_re_test = imputer_mf.transform(df_test[cat2])"
      ],
      "metadata": {
        "id": "gjWK4vvT6T00"
      },
      "execution_count": 22,
      "outputs": []
    },
    {
      "cell_type": "code",
      "source": [
        "df = pd.DataFrame(np.concatenate([ cat2_re, cat1_re, num1_re, num2_re ], axis=1), columns=cat2  + cat1 + num1 + num2, index=X.index )\n",
        "test_df = pd.DataFrame(np.concatenate([ cat2_re_test, cat1_re_test, num1_re_test, num2_re_test ], axis=1), columns=cat2  + cat1 + num1 + num2, index=df_test.index )"
      ],
      "metadata": {
        "id": "DijbtBovBceS"
      },
      "execution_count": 23,
      "outputs": []
    },
    {
      "cell_type": "code",
      "source": [
        "df = pd.concat([df, y], axis=1)\n"
      ],
      "metadata": {
        "id": "0v8rRK63yJ_p"
      },
      "execution_count": 24,
      "outputs": []
    },
    {
      "cell_type": "code",
      "source": [
        "# count = df['Degree'].value_counts()\n",
        "# valid_degree = count[count > 5 ].index\n",
        "# df = df[df['Degree'].isin(valid_degree)]"
      ],
      "metadata": {
        "id": "OYpntNLwFsjy"
      },
      "execution_count": 25,
      "outputs": []
    },
    {
      "cell_type": "code",
      "source": [
        "# DH = ['Moderate', 'Unhealthy', 'Healthy']\n",
        "\n",
        "# df = df[df['Dietary Habits'].isin(DH)]"
      ],
      "metadata": {
        "id": "nIK0o7pLEp5e"
      },
      "execution_count": 26,
      "outputs": []
    },
    {
      "cell_type": "code",
      "source": [
        "df['Work/Study Hours'].value_counts()"
      ],
      "metadata": {
        "colab": {
          "base_uri": "https://localhost:8080/",
          "height": 523
        },
        "id": "OxvMxJB-IHMx",
        "outputId": "86de0c5b-c643-48f5-a914-bb04ce4e94f1"
      },
      "execution_count": 27,
      "outputs": [
        {
          "output_type": "execute_result",
          "data": {
            "text/plain": [
              "Work/Study Hours\n",
              "10.0    14417\n",
              "11.0    13037\n",
              "9.0     12921\n",
              "0.0     12270\n",
              "12.0    11600\n",
              "2.0     10801\n",
              "6.0     10627\n",
              "7.0     10058\n",
              "1.0      9993\n",
              "3.0      9666\n",
              "5.0      9534\n",
              "4.0      9251\n",
              "8.0      9081\n",
              "Name: count, dtype: int64"
            ],
            "text/html": [
              "<div>\n",
              "<style scoped>\n",
              "    .dataframe tbody tr th:only-of-type {\n",
              "        vertical-align: middle;\n",
              "    }\n",
              "\n",
              "    .dataframe tbody tr th {\n",
              "        vertical-align: top;\n",
              "    }\n",
              "\n",
              "    .dataframe thead th {\n",
              "        text-align: right;\n",
              "    }\n",
              "</style>\n",
              "<table border=\"1\" class=\"dataframe\">\n",
              "  <thead>\n",
              "    <tr style=\"text-align: right;\">\n",
              "      <th></th>\n",
              "      <th>count</th>\n",
              "    </tr>\n",
              "    <tr>\n",
              "      <th>Work/Study Hours</th>\n",
              "      <th></th>\n",
              "    </tr>\n",
              "  </thead>\n",
              "  <tbody>\n",
              "    <tr>\n",
              "      <th>10.0</th>\n",
              "      <td>14417</td>\n",
              "    </tr>\n",
              "    <tr>\n",
              "      <th>11.0</th>\n",
              "      <td>13037</td>\n",
              "    </tr>\n",
              "    <tr>\n",
              "      <th>9.0</th>\n",
              "      <td>12921</td>\n",
              "    </tr>\n",
              "    <tr>\n",
              "      <th>0.0</th>\n",
              "      <td>12270</td>\n",
              "    </tr>\n",
              "    <tr>\n",
              "      <th>12.0</th>\n",
              "      <td>11600</td>\n",
              "    </tr>\n",
              "    <tr>\n",
              "      <th>2.0</th>\n",
              "      <td>10801</td>\n",
              "    </tr>\n",
              "    <tr>\n",
              "      <th>6.0</th>\n",
              "      <td>10627</td>\n",
              "    </tr>\n",
              "    <tr>\n",
              "      <th>7.0</th>\n",
              "      <td>10058</td>\n",
              "    </tr>\n",
              "    <tr>\n",
              "      <th>1.0</th>\n",
              "      <td>9993</td>\n",
              "    </tr>\n",
              "    <tr>\n",
              "      <th>3.0</th>\n",
              "      <td>9666</td>\n",
              "    </tr>\n",
              "    <tr>\n",
              "      <th>5.0</th>\n",
              "      <td>9534</td>\n",
              "    </tr>\n",
              "    <tr>\n",
              "      <th>4.0</th>\n",
              "      <td>9251</td>\n",
              "    </tr>\n",
              "    <tr>\n",
              "      <th>8.0</th>\n",
              "      <td>9081</td>\n",
              "    </tr>\n",
              "  </tbody>\n",
              "</table>\n",
              "</div><br><label><b>dtype:</b> int64</label>"
            ]
          },
          "metadata": {},
          "execution_count": 27
        }
      ]
    },
    {
      "cell_type": "code",
      "source": [
        "df[num_feat] = df[num_feat].astype(float)\n",
        "test_df[num_feat] = test_df[num_feat].astype(float)\n",
        "\n",
        "# df['Depression'] = df['Depression'].astype(int)"
      ],
      "metadata": {
        "id": "GaECCQLENmNo"
      },
      "execution_count": 28,
      "outputs": []
    },
    {
      "cell_type": "code",
      "source": [
        "X = df.drop('Depression', axis=1)\n",
        "y = df['Depression']"
      ],
      "metadata": {
        "id": "UGVxFQFrLzOR"
      },
      "execution_count": 29,
      "outputs": []
    },
    {
      "cell_type": "code",
      "source": [
        "X_train, X_val, y_train, y_val = train_test_split(df, y, test_size=0.2, random_state=42, stratify=y)"
      ],
      "metadata": {
        "id": "MIbLmGPtLkvg"
      },
      "execution_count": 30,
      "outputs": []
    },
    {
      "cell_type": "code",
      "source": [],
      "metadata": {
        "id": "_n6igRGnMAOX"
      },
      "execution_count": 30,
      "outputs": []
    },
    {
      "cell_type": "code",
      "source": [
        "ohe_feat = []\n",
        "non_ohe_feat = []\n",
        "for i in cat_feat:\n",
        "  if df[i].nunique() < 10:\n",
        "    ohe_feat.append(i)\n",
        "  else:\n",
        "    non_ohe_feat.append(i)"
      ],
      "metadata": {
        "id": "lyx5rBltBu0o"
      },
      "execution_count": 31,
      "outputs": []
    },
    {
      "cell_type": "code",
      "source": [],
      "metadata": {
        "id": "zyQJFU1fQyqa"
      },
      "execution_count": 31,
      "outputs": []
    },
    {
      "cell_type": "code",
      "source": [
        "ohe = OneHotEncoder(handle_unknown='ignore', sparse_output=False, drop='if_binary')"
      ],
      "metadata": {
        "id": "rm9PdWGuDOwP"
      },
      "execution_count": 32,
      "outputs": []
    },
    {
      "cell_type": "code",
      "source": [
        "def ohe(X_train, ohe_feat, num_feat, non_ohe_feat):\n",
        "  ohe = OneHotEncoder(handle_unknown='ignore', sparse_output=False, drop='if_binary')\n",
        "  ohe_res = ohe.fit_transform(X_train[ohe_feat])\n",
        "  ohe_train_df = pd.DataFrame(ohe_res, columns=ohe.get_feature_names_out())\n",
        "\n",
        "  res_train = pd.concat([X_train[non_ohe_feat], X_train[num_feat]], axis=1)\n",
        "  res_train.reset_index(inplace=True, drop=True)\n",
        "  train_df = pd.concat([res_train, ohe_train_df], axis=1)\n",
        "\n",
        "  return train_df"
      ],
      "metadata": {
        "id": "pk_DiwUjMOKu"
      },
      "execution_count": 33,
      "outputs": []
    },
    {
      "cell_type": "code",
      "source": [
        "X_train_df = ohe(X_train, ohe_feat, num_feat, non_ohe_feat)\n",
        "X_val_df = ohe(X_val, ohe_feat, num_feat, non_ohe_feat)\n",
        "test_df_new = ohe(test_df, ohe_feat, num_feat, non_ohe_feat)\n"
      ],
      "metadata": {
        "id": "c-NUyS09EKku"
      },
      "execution_count": 34,
      "outputs": []
    },
    {
      "cell_type": "code",
      "source": [
        "# test_df_new.info()"
      ],
      "metadata": {
        "id": "9t-PQHPV5zc7"
      },
      "execution_count": 35,
      "outputs": []
    },
    {
      "cell_type": "code",
      "source": [
        "# X_train_df.info()"
      ],
      "metadata": {
        "id": "8ybcXR4hTrcn"
      },
      "execution_count": 36,
      "outputs": []
    },
    {
      "cell_type": "code",
      "source": [
        "\n",
        "# # num_feat =num_feat.astype('category')\n",
        "# def types(X, cat):\n",
        "#   for i in cat:\n",
        "#     X[i] = X[i].astype('category')\n",
        "#   return X"
      ],
      "metadata": {
        "id": "Ip0ahonbPzw-"
      },
      "execution_count": 37,
      "outputs": []
    },
    {
      "cell_type": "code",
      "source": [
        "# X_train_df = types(X_train_df, non_ohe_feat)\n",
        "# X_val_df = types(X_val_df, non_ohe_feat)\n",
        "# test_df_new = types(test_df_new, non_ohe_feat)"
      ],
      "metadata": {
        "id": "xGrRhZydTZ4U"
      },
      "execution_count": 38,
      "outputs": []
    },
    {
      "cell_type": "markdown",
      "source": [
        "XGBOOST Model"
      ],
      "metadata": {
        "id": "jypgEqYOMf0I"
      }
    },
    {
      "cell_type": "code",
      "source": [],
      "metadata": {
        "id": "GyANLb1UH9fr"
      },
      "execution_count": 38,
      "outputs": []
    },
    {
      "cell_type": "code",
      "source": [
        "# xgbc = XGBClassifier(learning_rate =0.01, n_estimators=1000, max_depth=3, enable_categorical=True)\n",
        "# xgbc.fit(X_train_df, y_train)"
      ],
      "metadata": {
        "id": "f7ykS2meRKSl"
      },
      "execution_count": 39,
      "outputs": []
    },
    {
      "cell_type": "code",
      "source": [
        "# print(xgbc.score(X_train_df, y_train))\n",
        "# print(xgbc.score(X_val_df, y_val))"
      ],
      "metadata": {
        "id": "7geU7CWHUqXp"
      },
      "execution_count": 40,
      "outputs": []
    },
    {
      "cell_type": "code",
      "source": [
        "# xgbc_pred = xgbc.predict(X_val_df)"
      ],
      "metadata": {
        "id": "Wwlqpr7ivFqN"
      },
      "execution_count": 41,
      "outputs": []
    },
    {
      "cell_type": "code",
      "source": [
        "# roc_pos = roc_curve(y_val, xgbc.predict_proba(X_val_df)[:, 1])\n",
        "# plt.plot(roc_pos[0], roc_pos[1], label=roc_auc_score(y_val, xgbc.predict_proba(X_val_df)[:, 1]))\n",
        "# plt.legend()\n",
        "# plt.xlabel('False Positive Rate')\n",
        "# plt.xlabel('TPR')\n",
        "# plt.show()"
      ],
      "metadata": {
        "id": "W_FSBA7kVM7X"
      },
      "execution_count": 42,
      "outputs": []
    },
    {
      "cell_type": "code",
      "source": [
        "# y_pred = xgbc.predict(X_val_df)\n",
        "# print(classification_report(y_val, y_pred))"
      ],
      "metadata": {
        "id": "cq42H5QJjv8k"
      },
      "execution_count": 43,
      "outputs": []
    },
    {
      "cell_type": "code",
      "source": [
        "# xgbc_test_pred = xgbc.predict(test_df_new)"
      ],
      "metadata": {
        "id": "WexzV7hwoadL"
      },
      "execution_count": 44,
      "outputs": []
    },
    {
      "cell_type": "markdown",
      "source": [
        "Catboost"
      ],
      "metadata": {
        "id": "QjOPPveIIKcG"
      }
    },
    {
      "cell_type": "code",
      "source": [
        "!pip install catboost -q"
      ],
      "metadata": {
        "colab": {
          "base_uri": "https://localhost:8080/"
        },
        "id": "Qxtjy8PNJTTo",
        "outputId": "66933841-59dd-484b-a4d5-8383de129246"
      },
      "execution_count": 45,
      "outputs": [
        {
          "output_type": "stream",
          "name": "stdout",
          "text": [
            "\u001b[2K   \u001b[90m━━━━━━━━━━━━━━━━━━━━━━━━━━━━━━━━━━━━━━━━\u001b[0m \u001b[32m98.7/98.7 MB\u001b[0m \u001b[31m10.0 MB/s\u001b[0m eta \u001b[36m0:00:00\u001b[0m\n",
            "\u001b[?25h"
          ]
        }
      ]
    },
    {
      "cell_type": "code",
      "source": [
        "from catboost import CatBoostClassifier"
      ],
      "metadata": {
        "id": "o4Jzw82G30xc"
      },
      "execution_count": 54,
      "outputs": []
    },
    {
      "cell_type": "code",
      "source": [
        "cat = CatBoostClassifier(\n",
        "  iterations= 800,\n",
        "  learning_rate= 0.05,\n",
        "  colsample_bylevel= 0.6,\n",
        "  subsample= 0.8,\n",
        "  min_data_in_leaf= 30,\n",
        "  depth= 7,\n",
        "  random_strength= 0.5,\n",
        ")"
      ],
      "metadata": {
        "id": "LxUbzZjZKZjd"
      },
      "execution_count": 55,
      "outputs": []
    },
    {
      "cell_type": "code",
      "source": [
        "cat_features = ['Name', 'City', 'Profession', 'Sleep Duration', 'Dietary Habits', 'Degree']\n"
      ],
      "metadata": {
        "id": "v_K0zczwMlYE"
      },
      "execution_count": 58,
      "outputs": []
    },
    {
      "cell_type": "code",
      "source": [
        "cat.fit(X_train_df, y_train, cat_features=cat_features, eval_set=(X_val_df, y_val), verbose=100)"
      ],
      "metadata": {
        "colab": {
          "base_uri": "https://localhost:8080/"
        },
        "id": "L_ZcsQBjLTiH",
        "outputId": "9fc5efd8-5462-4a49-9eed-4fa602683fce"
      },
      "execution_count": 59,
      "outputs": [
        {
          "output_type": "stream",
          "name": "stdout",
          "text": [
            "0:\tlearn: 0.6072123\ttest: 0.6071047\tbest: 0.6071047 (0)\ttotal: 252ms\tremaining: 3m 21s\n",
            "100:\tlearn: 0.1486584\ttest: 0.1539583\tbest: 0.1539583 (100)\ttotal: 21.2s\tremaining: 2m 27s\n",
            "200:\tlearn: 0.1427895\ttest: 0.1511551\tbest: 0.1511551 (200)\ttotal: 41.9s\tremaining: 2m 4s\n",
            "300:\tlearn: 0.1394288\ttest: 0.1503482\tbest: 0.1503369 (297)\ttotal: 1m 3s\tremaining: 1m 44s\n",
            "400:\tlearn: 0.1364855\ttest: 0.1499944\tbest: 0.1499903 (399)\ttotal: 1m 23s\tremaining: 1m 23s\n",
            "500:\tlearn: 0.1340130\ttest: 0.1498134\tbest: 0.1497780 (472)\ttotal: 1m 47s\tremaining: 1m 4s\n",
            "600:\tlearn: 0.1317204\ttest: 0.1496871\tbest: 0.1496844 (595)\ttotal: 2m 17s\tremaining: 45.6s\n",
            "700:\tlearn: 0.1296198\ttest: 0.1496073\tbest: 0.1495719 (662)\ttotal: 2m 41s\tremaining: 22.8s\n",
            "799:\tlearn: 0.1276536\ttest: 0.1495464\tbest: 0.1495404 (778)\ttotal: 3m 2s\tremaining: 0us\n",
            "\n",
            "bestTest = 0.1495403704\n",
            "bestIteration = 778\n",
            "\n",
            "Shrink model to first 779 iterations.\n"
          ]
        },
        {
          "output_type": "execute_result",
          "data": {
            "text/plain": [
              "<catboost.core.CatBoostClassifier at 0x7d6aacbb99c0>"
            ]
          },
          "metadata": {},
          "execution_count": 59
        }
      ]
    },
    {
      "cell_type": "code",
      "source": [
        "print(cat.score(X_train_df, y_train))\n",
        "print(cat.score(X_val_df, y_val))"
      ],
      "metadata": {
        "colab": {
          "base_uri": "https://localhost:8080/"
        },
        "id": "GQgmcc-FLNtt",
        "outputId": "039ae139-876e-4cab-9920-43965b8aefb0"
      },
      "execution_count": 60,
      "outputs": [
        {
          "output_type": "stream",
          "name": "stdout",
          "text": [
            "0.94871034169837\n",
            "0.9401786960770627\n"
          ]
        }
      ]
    },
    {
      "cell_type": "code",
      "source": [
        "y_pred = cat.predict(X_val_df)\n",
        "print(classification_report(y_val, y_pred))"
      ],
      "metadata": {
        "colab": {
          "base_uri": "https://localhost:8080/"
        },
        "id": "0Zavq9y8OYkh",
        "outputId": "c705b674-094a-44b7-cb8d-6c6bbab84d19"
      },
      "execution_count": 63,
      "outputs": [
        {
          "output_type": "stream",
          "name": "stdout",
          "text": [
            "              precision    recall  f1-score   support\n",
            "\n",
            "           0       0.96      0.97      0.96     23447\n",
            "           1       0.85      0.81      0.83      5205\n",
            "\n",
            "    accuracy                           0.94     28652\n",
            "   macro avg       0.91      0.89      0.90     28652\n",
            "weighted avg       0.94      0.94      0.94     28652\n",
            "\n"
          ]
        }
      ]
    },
    {
      "cell_type": "code",
      "source": [
        "cat_test_pred = cat.predict(test_df_new)"
      ],
      "metadata": {
        "id": "ApgiNtvBOdrl"
      },
      "execution_count": 64,
      "outputs": []
    },
    {
      "cell_type": "code",
      "source": [
        "submission = pd.DataFrame({\n",
        "\n",
        "    'id': test_df.index,  # 'id' column from test data\n",
        "\n",
        "    'Depression': cat_test_pred.astype(int)  # Predicted labels for depression\n",
        "\n",
        "})\n",
        "\n",
        "# Save the submission file as a CSV\n",
        "\n",
        "submission.to_csv('submission.csv', index=False)\n",
        "\n",
        "print(\"Submission file saved as 'submission.csv'\")"
      ],
      "metadata": {
        "id": "yD44e1bK30zm",
        "outputId": "4f9d9961-a7ce-4620-9f64-ec5200fc24ca",
        "colab": {
          "base_uri": "https://localhost:8080/"
        }
      },
      "execution_count": 65,
      "outputs": [
        {
          "output_type": "stream",
          "name": "stdout",
          "text": [
            "Submission file saved as 'submission.csv'\n"
          ]
        }
      ]
    },
    {
      "cell_type": "markdown",
      "source": [
        "Fine tunning"
      ],
      "metadata": {
        "id": "V9d7-ne1xzO2"
      }
    },
    {
      "cell_type": "code",
      "source": [
        "stratified_kfold = StratifiedKFold(n_splits=5, shuffle=True, random_state=42)\n",
        "params = {\n",
        "    'n_estimators': [500, 1000],\n",
        "    'booster': ['gbtree', 'dart'],\n",
        "    # 'objective': ['binary:logistic'],\n",
        "    'eta': [0.01, 0.1],\n",
        "    # 'min_child_weight': [1, 5],\n",
        "    # 'gamma': [0.5, 1],\n",
        "    'subsample': [0.5, 1.0],\n",
        "    'colsample_bytree': [0.8, 1.0],\n",
        "    # 'max_depth': [3, 5]\n",
        "}\n",
        "\n",
        "clf = RandomizedSearchCV(XGBClassifier(enable_categorical=True), params, scoring='roc_auc', cv=stratified_kfold, n_jobs=-1)\n",
        "clf.fit(X_train_df, y_train)"
      ],
      "metadata": {
        "id": "2xQ2rnaaVW2R"
      },
      "execution_count": null,
      "outputs": []
    },
    {
      "cell_type": "code",
      "source": [
        "grid_cv_result = pd.DataFrame(clf.cv_results_).sort_values(by='rank_test_score')\n",
        "grid_cv_result[['params','mean_train_score', 'mean_test_score', 'rank_test_score']]"
      ],
      "metadata": {
        "id": "kxXaThrP2fMn"
      },
      "execution_count": null,
      "outputs": []
    },
    {
      "cell_type": "code",
      "source": [
        "print(f'the best parameter: {clf.best_params_}')\n",
        "print(f'the best score: {clf.best_score_}')"
      ],
      "metadata": {
        "id": "x4t9f5hA6CMM"
      },
      "execution_count": null,
      "outputs": []
    },
    {
      "cell_type": "code",
      "source": [],
      "metadata": {
        "id": "yI1zzxsgAUsF"
      },
      "execution_count": null,
      "outputs": []
    }
  ]
}